{
 "cells": [
  {
   "cell_type": "markdown",
   "id": "c421dff3",
   "metadata": {
    "id": "kDvbxkVEgaMu",
    "papermill": {
     "duration": 0.018379,
     "end_time": "2022-09-14T13:02:11.828974",
     "exception": false,
     "start_time": "2022-09-14T13:02:11.810595",
     "status": "completed"
    },
    "tags": []
   },
   "source": [
    "# Imports and configurations"
   ]
  },
  {
   "cell_type": "code",
   "execution_count": 29,
   "id": "1d5486b9",
   "metadata": {
    "execution": {
     "iopub.execute_input": "2022-09-14T13:02:11.868027Z",
     "iopub.status.busy": "2022-09-14T13:02:11.867465Z",
     "iopub.status.idle": "2022-09-14T13:02:25.289326Z",
     "shell.execute_reply": "2022-09-14T13:02:25.287755Z"
    },
    "id": "2WQZRHRthEJG",
    "outputId": "122cd0c1-ea93-49dd-d641-33244ded3875",
    "papermill": {
     "duration": 13.442132,
     "end_time": "2022-09-14T13:02:25.292567",
     "exception": false,
     "start_time": "2022-09-14T13:02:11.850435",
     "status": "completed"
    },
    "tags": []
   },
   "outputs": [],
   "source": [
    "#%pip install numpy pandas seaborn matplotlib optuna sklearn xgboost catboost lightgbm "
   ]
  },
  {
   "cell_type": "code",
   "execution_count": 46,
   "id": "3700959e",
   "metadata": {
    "execution": {
     "iopub.execute_input": "2022-09-14T13:02:25.327428Z",
     "iopub.status.busy": "2022-09-14T13:02:25.326579Z",
     "iopub.status.idle": "2022-09-14T13:02:29.376169Z",
     "shell.execute_reply": "2022-09-14T13:02:29.374420Z"
    },
    "id": "-N8BDL8XgaMv",
    "papermill": {
     "duration": 4.069568,
     "end_time": "2022-09-14T13:02:29.379435",
     "exception": false,
     "start_time": "2022-09-14T13:02:25.309867",
     "status": "completed"
    },
    "tags": []
   },
   "outputs": [],
   "source": [
    "import numpy as np\n",
    "import pandas as pd\n",
    "import seaborn as sns\n",
    "import matplotlib.pyplot as plt\n",
    "from pandas.api.types import is_numeric_dtype\n",
    "import warnings\n",
    "import optuna\n",
    "from sklearn import tree\n",
    "from sklearn.model_selection import train_test_split\n",
    "from sklearn.neighbors import KNeighborsClassifier\n",
    "from sklearn.linear_model import LogisticRegression\n",
    "from sklearn.preprocessing import StandardScaler, LabelEncoder\n",
    "from sklearn.tree  import DecisionTreeClassifier\n",
    "from sklearn.ensemble import RandomForestClassifier, AdaBoostClassifier, VotingClassifier, GradientBoostingClassifier\n",
    "from sklearn.svm import SVC, LinearSVC\n",
    "from sklearn.naive_bayes import BernoulliNB\n",
    "from lightgbm import LGBMClassifier\n",
    "from sklearn.feature_selection import RFE\n",
    "import itertools\n",
    "from catboost import CatBoostClassifier\n",
    "from xgboost import XGBClassifier\n",
    "from tabulate import tabulate\n",
    "import os\n",
    "warnings.filterwarnings('ignore')\n",
    "optuna.logging.set_verbosity(optuna.logging.WARNING)\n",
    "for dirname, _, filenames in os.walk('/kaggle/input'):\n",
    "    for filename in filenames:\n",
    "        print(os.path.join(dirname, filename))"
   ]
  },
  {
   "cell_type": "markdown",
   "id": "634c8c7e",
   "metadata": {
    "id": "aKV9idK-gaMw",
    "papermill": {
     "duration": 0.014781,
     "end_time": "2022-09-14T13:02:29.409510",
     "exception": false,
     "start_time": "2022-09-14T13:02:29.394729",
     "status": "completed"
    },
    "tags": []
   },
   "source": [
    "# Data Preprocessing & EDA"
   ]
  },
  {
   "cell_type": "code",
   "execution_count": 47,
   "id": "e21d02ad",
   "metadata": {
    "execution": {
     "iopub.execute_input": "2022-09-14T13:02:29.441992Z",
     "iopub.status.busy": "2022-09-14T13:02:29.441564Z",
     "iopub.status.idle": "2022-09-14T13:02:29.765955Z",
     "shell.execute_reply": "2022-09-14T13:02:29.764555Z"
    },
    "id": "u9yLtJZOgaMw",
    "outputId": "84ded1cb-b71a-410d-8334-bf68f389e80e",
    "papermill": {
     "duration": 0.343932,
     "end_time": "2022-09-14T13:02:29.768857",
     "exception": false,
     "start_time": "2022-09-14T13:02:29.424925",
     "status": "completed"
    },
    "tags": []
   },
   "outputs": [
    {
     "ename": "FileNotFoundError",
     "evalue": "[Errno 2] No such file or directory: './Test_data.csv'",
     "output_type": "error",
     "traceback": [
      "\u001b[1;31m---------------------------------------------------------------------------\u001b[0m",
      "\u001b[1;31mFileNotFoundError\u001b[0m                         Traceback (most recent call last)",
      "Cell \u001b[1;32mIn[47], line 1\u001b[0m\n\u001b[1;32m----> 1\u001b[0m train\u001b[38;5;241m=\u001b[39mpd\u001b[38;5;241m.\u001b[39mread_csv(\u001b[38;5;124m'\u001b[39m\u001b[38;5;124m./Test_data.csv\u001b[39m\u001b[38;5;124m'\u001b[39m)\n\u001b[0;32m      2\u001b[0m test\u001b[38;5;241m=\u001b[39mpd\u001b[38;5;241m.\u001b[39mread_csv(\u001b[38;5;124m'\u001b[39m\u001b[38;5;124m./Test_data.csv\u001b[39m\u001b[38;5;124m'\u001b[39m)\n\u001b[0;32m      3\u001b[0m test\n",
      "File \u001b[1;32mc:\\ProgramData\\anaconda3\\Lib\\site-packages\\pandas\\io\\parsers\\readers.py:1026\u001b[0m, in \u001b[0;36mread_csv\u001b[1;34m(filepath_or_buffer, sep, delimiter, header, names, index_col, usecols, dtype, engine, converters, true_values, false_values, skipinitialspace, skiprows, skipfooter, nrows, na_values, keep_default_na, na_filter, verbose, skip_blank_lines, parse_dates, infer_datetime_format, keep_date_col, date_parser, date_format, dayfirst, cache_dates, iterator, chunksize, compression, thousands, decimal, lineterminator, quotechar, quoting, doublequote, escapechar, comment, encoding, encoding_errors, dialect, on_bad_lines, delim_whitespace, low_memory, memory_map, float_precision, storage_options, dtype_backend)\u001b[0m\n\u001b[0;32m   1013\u001b[0m kwds_defaults \u001b[38;5;241m=\u001b[39m _refine_defaults_read(\n\u001b[0;32m   1014\u001b[0m     dialect,\n\u001b[0;32m   1015\u001b[0m     delimiter,\n\u001b[1;32m   (...)\u001b[0m\n\u001b[0;32m   1022\u001b[0m     dtype_backend\u001b[38;5;241m=\u001b[39mdtype_backend,\n\u001b[0;32m   1023\u001b[0m )\n\u001b[0;32m   1024\u001b[0m kwds\u001b[38;5;241m.\u001b[39mupdate(kwds_defaults)\n\u001b[1;32m-> 1026\u001b[0m \u001b[38;5;28;01mreturn\u001b[39;00m _read(filepath_or_buffer, kwds)\n",
      "File \u001b[1;32mc:\\ProgramData\\anaconda3\\Lib\\site-packages\\pandas\\io\\parsers\\readers.py:620\u001b[0m, in \u001b[0;36m_read\u001b[1;34m(filepath_or_buffer, kwds)\u001b[0m\n\u001b[0;32m    617\u001b[0m _validate_names(kwds\u001b[38;5;241m.\u001b[39mget(\u001b[38;5;124m\"\u001b[39m\u001b[38;5;124mnames\u001b[39m\u001b[38;5;124m\"\u001b[39m, \u001b[38;5;28;01mNone\u001b[39;00m))\n\u001b[0;32m    619\u001b[0m \u001b[38;5;66;03m# Create the parser.\u001b[39;00m\n\u001b[1;32m--> 620\u001b[0m parser \u001b[38;5;241m=\u001b[39m TextFileReader(filepath_or_buffer, \u001b[38;5;241m*\u001b[39m\u001b[38;5;241m*\u001b[39mkwds)\n\u001b[0;32m    622\u001b[0m \u001b[38;5;28;01mif\u001b[39;00m chunksize \u001b[38;5;129;01mor\u001b[39;00m iterator:\n\u001b[0;32m    623\u001b[0m     \u001b[38;5;28;01mreturn\u001b[39;00m parser\n",
      "File \u001b[1;32mc:\\ProgramData\\anaconda3\\Lib\\site-packages\\pandas\\io\\parsers\\readers.py:1620\u001b[0m, in \u001b[0;36mTextFileReader.__init__\u001b[1;34m(self, f, engine, **kwds)\u001b[0m\n\u001b[0;32m   1617\u001b[0m     \u001b[38;5;28mself\u001b[39m\u001b[38;5;241m.\u001b[39moptions[\u001b[38;5;124m\"\u001b[39m\u001b[38;5;124mhas_index_names\u001b[39m\u001b[38;5;124m\"\u001b[39m] \u001b[38;5;241m=\u001b[39m kwds[\u001b[38;5;124m\"\u001b[39m\u001b[38;5;124mhas_index_names\u001b[39m\u001b[38;5;124m\"\u001b[39m]\n\u001b[0;32m   1619\u001b[0m \u001b[38;5;28mself\u001b[39m\u001b[38;5;241m.\u001b[39mhandles: IOHandles \u001b[38;5;241m|\u001b[39m \u001b[38;5;28;01mNone\u001b[39;00m \u001b[38;5;241m=\u001b[39m \u001b[38;5;28;01mNone\u001b[39;00m\n\u001b[1;32m-> 1620\u001b[0m \u001b[38;5;28mself\u001b[39m\u001b[38;5;241m.\u001b[39m_engine \u001b[38;5;241m=\u001b[39m \u001b[38;5;28mself\u001b[39m\u001b[38;5;241m.\u001b[39m_make_engine(f, \u001b[38;5;28mself\u001b[39m\u001b[38;5;241m.\u001b[39mengine)\n",
      "File \u001b[1;32mc:\\ProgramData\\anaconda3\\Lib\\site-packages\\pandas\\io\\parsers\\readers.py:1880\u001b[0m, in \u001b[0;36mTextFileReader._make_engine\u001b[1;34m(self, f, engine)\u001b[0m\n\u001b[0;32m   1878\u001b[0m     \u001b[38;5;28;01mif\u001b[39;00m \u001b[38;5;124m\"\u001b[39m\u001b[38;5;124mb\u001b[39m\u001b[38;5;124m\"\u001b[39m \u001b[38;5;129;01mnot\u001b[39;00m \u001b[38;5;129;01min\u001b[39;00m mode:\n\u001b[0;32m   1879\u001b[0m         mode \u001b[38;5;241m+\u001b[39m\u001b[38;5;241m=\u001b[39m \u001b[38;5;124m\"\u001b[39m\u001b[38;5;124mb\u001b[39m\u001b[38;5;124m\"\u001b[39m\n\u001b[1;32m-> 1880\u001b[0m \u001b[38;5;28mself\u001b[39m\u001b[38;5;241m.\u001b[39mhandles \u001b[38;5;241m=\u001b[39m get_handle(\n\u001b[0;32m   1881\u001b[0m     f,\n\u001b[0;32m   1882\u001b[0m     mode,\n\u001b[0;32m   1883\u001b[0m     encoding\u001b[38;5;241m=\u001b[39m\u001b[38;5;28mself\u001b[39m\u001b[38;5;241m.\u001b[39moptions\u001b[38;5;241m.\u001b[39mget(\u001b[38;5;124m\"\u001b[39m\u001b[38;5;124mencoding\u001b[39m\u001b[38;5;124m\"\u001b[39m, \u001b[38;5;28;01mNone\u001b[39;00m),\n\u001b[0;32m   1884\u001b[0m     compression\u001b[38;5;241m=\u001b[39m\u001b[38;5;28mself\u001b[39m\u001b[38;5;241m.\u001b[39moptions\u001b[38;5;241m.\u001b[39mget(\u001b[38;5;124m\"\u001b[39m\u001b[38;5;124mcompression\u001b[39m\u001b[38;5;124m\"\u001b[39m, \u001b[38;5;28;01mNone\u001b[39;00m),\n\u001b[0;32m   1885\u001b[0m     memory_map\u001b[38;5;241m=\u001b[39m\u001b[38;5;28mself\u001b[39m\u001b[38;5;241m.\u001b[39moptions\u001b[38;5;241m.\u001b[39mget(\u001b[38;5;124m\"\u001b[39m\u001b[38;5;124mmemory_map\u001b[39m\u001b[38;5;124m\"\u001b[39m, \u001b[38;5;28;01mFalse\u001b[39;00m),\n\u001b[0;32m   1886\u001b[0m     is_text\u001b[38;5;241m=\u001b[39mis_text,\n\u001b[0;32m   1887\u001b[0m     errors\u001b[38;5;241m=\u001b[39m\u001b[38;5;28mself\u001b[39m\u001b[38;5;241m.\u001b[39moptions\u001b[38;5;241m.\u001b[39mget(\u001b[38;5;124m\"\u001b[39m\u001b[38;5;124mencoding_errors\u001b[39m\u001b[38;5;124m\"\u001b[39m, \u001b[38;5;124m\"\u001b[39m\u001b[38;5;124mstrict\u001b[39m\u001b[38;5;124m\"\u001b[39m),\n\u001b[0;32m   1888\u001b[0m     storage_options\u001b[38;5;241m=\u001b[39m\u001b[38;5;28mself\u001b[39m\u001b[38;5;241m.\u001b[39moptions\u001b[38;5;241m.\u001b[39mget(\u001b[38;5;124m\"\u001b[39m\u001b[38;5;124mstorage_options\u001b[39m\u001b[38;5;124m\"\u001b[39m, \u001b[38;5;28;01mNone\u001b[39;00m),\n\u001b[0;32m   1889\u001b[0m )\n\u001b[0;32m   1890\u001b[0m \u001b[38;5;28;01massert\u001b[39;00m \u001b[38;5;28mself\u001b[39m\u001b[38;5;241m.\u001b[39mhandles \u001b[38;5;129;01mis\u001b[39;00m \u001b[38;5;129;01mnot\u001b[39;00m \u001b[38;5;28;01mNone\u001b[39;00m\n\u001b[0;32m   1891\u001b[0m f \u001b[38;5;241m=\u001b[39m \u001b[38;5;28mself\u001b[39m\u001b[38;5;241m.\u001b[39mhandles\u001b[38;5;241m.\u001b[39mhandle\n",
      "File \u001b[1;32mc:\\ProgramData\\anaconda3\\Lib\\site-packages\\pandas\\io\\common.py:873\u001b[0m, in \u001b[0;36mget_handle\u001b[1;34m(path_or_buf, mode, encoding, compression, memory_map, is_text, errors, storage_options)\u001b[0m\n\u001b[0;32m    868\u001b[0m \u001b[38;5;28;01melif\u001b[39;00m \u001b[38;5;28misinstance\u001b[39m(handle, \u001b[38;5;28mstr\u001b[39m):\n\u001b[0;32m    869\u001b[0m     \u001b[38;5;66;03m# Check whether the filename is to be opened in binary mode.\u001b[39;00m\n\u001b[0;32m    870\u001b[0m     \u001b[38;5;66;03m# Binary mode does not support 'encoding' and 'newline'.\u001b[39;00m\n\u001b[0;32m    871\u001b[0m     \u001b[38;5;28;01mif\u001b[39;00m ioargs\u001b[38;5;241m.\u001b[39mencoding \u001b[38;5;129;01mand\u001b[39;00m \u001b[38;5;124m\"\u001b[39m\u001b[38;5;124mb\u001b[39m\u001b[38;5;124m\"\u001b[39m \u001b[38;5;129;01mnot\u001b[39;00m \u001b[38;5;129;01min\u001b[39;00m ioargs\u001b[38;5;241m.\u001b[39mmode:\n\u001b[0;32m    872\u001b[0m         \u001b[38;5;66;03m# Encoding\u001b[39;00m\n\u001b[1;32m--> 873\u001b[0m         handle \u001b[38;5;241m=\u001b[39m \u001b[38;5;28mopen\u001b[39m(\n\u001b[0;32m    874\u001b[0m             handle,\n\u001b[0;32m    875\u001b[0m             ioargs\u001b[38;5;241m.\u001b[39mmode,\n\u001b[0;32m    876\u001b[0m             encoding\u001b[38;5;241m=\u001b[39mioargs\u001b[38;5;241m.\u001b[39mencoding,\n\u001b[0;32m    877\u001b[0m             errors\u001b[38;5;241m=\u001b[39merrors,\n\u001b[0;32m    878\u001b[0m             newline\u001b[38;5;241m=\u001b[39m\u001b[38;5;124m\"\u001b[39m\u001b[38;5;124m\"\u001b[39m,\n\u001b[0;32m    879\u001b[0m         )\n\u001b[0;32m    880\u001b[0m     \u001b[38;5;28;01melse\u001b[39;00m:\n\u001b[0;32m    881\u001b[0m         \u001b[38;5;66;03m# Binary mode\u001b[39;00m\n\u001b[0;32m    882\u001b[0m         handle \u001b[38;5;241m=\u001b[39m \u001b[38;5;28mopen\u001b[39m(handle, ioargs\u001b[38;5;241m.\u001b[39mmode)\n",
      "\u001b[1;31mFileNotFoundError\u001b[0m: [Errno 2] No such file or directory: './Test_data.csv'"
     ]
    }
   ],
   "source": [
    "train=pd.read_csv('./Test_data.csv')\n",
    "test=pd.read_csv('./Test_data.csv')\n",
    "test\n"
   ]
  },
  {
   "cell_type": "markdown",
   "id": "c2341c71",
   "metadata": {},
   "source": [
    "# print the train information dataset"
   ]
  },
  {
   "cell_type": "code",
   "execution_count": 37,
   "id": "d6ddd9b8",
   "metadata": {
    "execution": {
     "iopub.execute_input": "2022-09-14T13:02:29.802710Z",
     "iopub.status.busy": "2022-09-14T13:02:29.802040Z",
     "iopub.status.idle": "2022-09-14T13:02:29.837740Z",
     "shell.execute_reply": "2022-09-14T13:02:29.835931Z"
    },
    "id": "1AX6f2nngaMx",
    "outputId": "ee4f4846-634a-40f0-96a3-e8ba20255334",
    "papermill": {
     "duration": 0.057168,
     "end_time": "2022-09-14T13:02:29.841741",
     "exception": false,
     "start_time": "2022-09-14T13:02:29.784573",
     "status": "completed"
    },
    "tags": []
   },
   "outputs": [
    {
     "name": "stdout",
     "output_type": "stream",
     "text": [
      "<class 'pandas.core.frame.DataFrame'>\n",
      "RangeIndex: 22544 entries, 0 to 22543\n",
      "Data columns (total 41 columns):\n",
      " #   Column                       Non-Null Count  Dtype  \n",
      "---  ------                       --------------  -----  \n",
      " 0   duration                     22544 non-null  int64  \n",
      " 1   protocol_type                22544 non-null  object \n",
      " 2   service                      22544 non-null  object \n",
      " 3   flag                         22544 non-null  object \n",
      " 4   src_bytes                    22544 non-null  int64  \n",
      " 5   dst_bytes                    22544 non-null  int64  \n",
      " 6   land                         22544 non-null  int64  \n",
      " 7   wrong_fragment               22544 non-null  int64  \n",
      " 8   urgent                       22544 non-null  int64  \n",
      " 9   hot                          22544 non-null  int64  \n",
      " 10  num_failed_logins            22544 non-null  int64  \n",
      " 11  logged_in                    22544 non-null  int64  \n",
      " 12  num_compromised              22544 non-null  int64  \n",
      " 13  root_shell                   22544 non-null  int64  \n",
      " 14  su_attempted                 22544 non-null  int64  \n",
      " 15  num_root                     22544 non-null  int64  \n",
      " 16  num_file_creations           22544 non-null  int64  \n",
      " 17  num_shells                   22544 non-null  int64  \n",
      " 18  num_access_files             22544 non-null  int64  \n",
      " 19  num_outbound_cmds            22544 non-null  int64  \n",
      " 20  is_host_login                22544 non-null  int64  \n",
      " 21  is_guest_login               22544 non-null  int64  \n",
      " 22  count                        22544 non-null  int64  \n",
      " 23  srv_count                    22544 non-null  int64  \n",
      " 24  serror_rate                  22544 non-null  float64\n",
      " 25  srv_serror_rate              22544 non-null  float64\n",
      " 26  rerror_rate                  22544 non-null  float64\n",
      " 27  srv_rerror_rate              22544 non-null  float64\n",
      " 28  same_srv_rate                22544 non-null  float64\n",
      " 29  diff_srv_rate                22544 non-null  float64\n",
      " 30  srv_diff_host_rate           22544 non-null  float64\n",
      " 31  dst_host_count               22544 non-null  int64  \n",
      " 32  dst_host_srv_count           22544 non-null  int64  \n",
      " 33  dst_host_same_srv_rate       22544 non-null  float64\n",
      " 34  dst_host_diff_srv_rate       22544 non-null  float64\n",
      " 35  dst_host_same_src_port_rate  22544 non-null  float64\n",
      " 36  dst_host_srv_diff_host_rate  22544 non-null  float64\n",
      " 37  dst_host_serror_rate         22544 non-null  float64\n",
      " 38  dst_host_srv_serror_rate     22544 non-null  float64\n",
      " 39  dst_host_rerror_rate         22544 non-null  float64\n",
      " 40  dst_host_srv_rerror_rate     22544 non-null  float64\n",
      "dtypes: float64(15), int64(23), object(3)\n",
      "memory usage: 7.1+ MB\n"
     ]
    }
   ],
   "source": [
    "train.info()"
   ]
  },
  {
   "cell_type": "markdown",
   "id": "fcc3a767",
   "metadata": {},
   "source": [
    "# print test information dataset"
   ]
  },
  {
   "cell_type": "code",
   "execution_count": 38,
   "id": "ca80db50",
   "metadata": {
    "execution": {
     "iopub.execute_input": "2022-09-14T13:02:29.876415Z",
     "iopub.status.busy": "2022-09-14T13:02:29.875973Z",
     "iopub.status.idle": "2022-09-14T13:02:29.904139Z",
     "shell.execute_reply": "2022-09-14T13:02:29.902764Z"
    },
    "id": "ena_Ri7LgaMx",
    "outputId": "779e804e-9616-4daa-c619-2f9cf5d294b2",
    "papermill": {
     "duration": 0.048428,
     "end_time": "2022-09-14T13:02:29.906961",
     "exception": false,
     "start_time": "2022-09-14T13:02:29.858533",
     "status": "completed"
    },
    "tags": []
   },
   "outputs": [
    {
     "data": {
      "text/html": [
       "<div>\n",
       "<style scoped>\n",
       "    .dataframe tbody tr th:only-of-type {\n",
       "        vertical-align: middle;\n",
       "    }\n",
       "\n",
       "    .dataframe tbody tr th {\n",
       "        vertical-align: top;\n",
       "    }\n",
       "\n",
       "    .dataframe thead th {\n",
       "        text-align: right;\n",
       "    }\n",
       "</style>\n",
       "<table border=\"1\" class=\"dataframe\">\n",
       "  <thead>\n",
       "    <tr style=\"text-align: right;\">\n",
       "      <th></th>\n",
       "      <th>duration</th>\n",
       "      <th>protocol_type</th>\n",
       "      <th>service</th>\n",
       "      <th>flag</th>\n",
       "      <th>src_bytes</th>\n",
       "      <th>dst_bytes</th>\n",
       "      <th>land</th>\n",
       "      <th>wrong_fragment</th>\n",
       "      <th>urgent</th>\n",
       "      <th>hot</th>\n",
       "      <th>...</th>\n",
       "      <th>dst_host_count</th>\n",
       "      <th>dst_host_srv_count</th>\n",
       "      <th>dst_host_same_srv_rate</th>\n",
       "      <th>dst_host_diff_srv_rate</th>\n",
       "      <th>dst_host_same_src_port_rate</th>\n",
       "      <th>dst_host_srv_diff_host_rate</th>\n",
       "      <th>dst_host_serror_rate</th>\n",
       "      <th>dst_host_srv_serror_rate</th>\n",
       "      <th>dst_host_rerror_rate</th>\n",
       "      <th>dst_host_srv_rerror_rate</th>\n",
       "    </tr>\n",
       "  </thead>\n",
       "  <tbody>\n",
       "    <tr>\n",
       "      <th>0</th>\n",
       "      <td>0</td>\n",
       "      <td>tcp</td>\n",
       "      <td>private</td>\n",
       "      <td>REJ</td>\n",
       "      <td>0</td>\n",
       "      <td>0</td>\n",
       "      <td>0</td>\n",
       "      <td>0</td>\n",
       "      <td>0</td>\n",
       "      <td>0</td>\n",
       "      <td>...</td>\n",
       "      <td>255</td>\n",
       "      <td>10</td>\n",
       "      <td>0.04</td>\n",
       "      <td>0.06</td>\n",
       "      <td>0.00</td>\n",
       "      <td>0.00</td>\n",
       "      <td>0.0</td>\n",
       "      <td>0.0</td>\n",
       "      <td>1.00</td>\n",
       "      <td>1.00</td>\n",
       "    </tr>\n",
       "    <tr>\n",
       "      <th>1</th>\n",
       "      <td>0</td>\n",
       "      <td>tcp</td>\n",
       "      <td>private</td>\n",
       "      <td>REJ</td>\n",
       "      <td>0</td>\n",
       "      <td>0</td>\n",
       "      <td>0</td>\n",
       "      <td>0</td>\n",
       "      <td>0</td>\n",
       "      <td>0</td>\n",
       "      <td>...</td>\n",
       "      <td>255</td>\n",
       "      <td>1</td>\n",
       "      <td>0.00</td>\n",
       "      <td>0.06</td>\n",
       "      <td>0.00</td>\n",
       "      <td>0.00</td>\n",
       "      <td>0.0</td>\n",
       "      <td>0.0</td>\n",
       "      <td>1.00</td>\n",
       "      <td>1.00</td>\n",
       "    </tr>\n",
       "    <tr>\n",
       "      <th>2</th>\n",
       "      <td>2</td>\n",
       "      <td>tcp</td>\n",
       "      <td>ftp_data</td>\n",
       "      <td>SF</td>\n",
       "      <td>12983</td>\n",
       "      <td>0</td>\n",
       "      <td>0</td>\n",
       "      <td>0</td>\n",
       "      <td>0</td>\n",
       "      <td>0</td>\n",
       "      <td>...</td>\n",
       "      <td>134</td>\n",
       "      <td>86</td>\n",
       "      <td>0.61</td>\n",
       "      <td>0.04</td>\n",
       "      <td>0.61</td>\n",
       "      <td>0.02</td>\n",
       "      <td>0.0</td>\n",
       "      <td>0.0</td>\n",
       "      <td>0.00</td>\n",
       "      <td>0.00</td>\n",
       "    </tr>\n",
       "    <tr>\n",
       "      <th>3</th>\n",
       "      <td>0</td>\n",
       "      <td>icmp</td>\n",
       "      <td>eco_i</td>\n",
       "      <td>SF</td>\n",
       "      <td>20</td>\n",
       "      <td>0</td>\n",
       "      <td>0</td>\n",
       "      <td>0</td>\n",
       "      <td>0</td>\n",
       "      <td>0</td>\n",
       "      <td>...</td>\n",
       "      <td>3</td>\n",
       "      <td>57</td>\n",
       "      <td>1.00</td>\n",
       "      <td>0.00</td>\n",
       "      <td>1.00</td>\n",
       "      <td>0.28</td>\n",
       "      <td>0.0</td>\n",
       "      <td>0.0</td>\n",
       "      <td>0.00</td>\n",
       "      <td>0.00</td>\n",
       "    </tr>\n",
       "    <tr>\n",
       "      <th>4</th>\n",
       "      <td>1</td>\n",
       "      <td>tcp</td>\n",
       "      <td>telnet</td>\n",
       "      <td>RSTO</td>\n",
       "      <td>0</td>\n",
       "      <td>15</td>\n",
       "      <td>0</td>\n",
       "      <td>0</td>\n",
       "      <td>0</td>\n",
       "      <td>0</td>\n",
       "      <td>...</td>\n",
       "      <td>29</td>\n",
       "      <td>86</td>\n",
       "      <td>0.31</td>\n",
       "      <td>0.17</td>\n",
       "      <td>0.03</td>\n",
       "      <td>0.02</td>\n",
       "      <td>0.0</td>\n",
       "      <td>0.0</td>\n",
       "      <td>0.83</td>\n",
       "      <td>0.71</td>\n",
       "    </tr>\n",
       "  </tbody>\n",
       "</table>\n",
       "<p>5 rows × 41 columns</p>\n",
       "</div>"
      ],
      "text/plain": [
       "   duration protocol_type   service  flag  src_bytes  dst_bytes  land  \\\n",
       "0         0           tcp   private   REJ          0          0     0   \n",
       "1         0           tcp   private   REJ          0          0     0   \n",
       "2         2           tcp  ftp_data    SF      12983          0     0   \n",
       "3         0          icmp     eco_i    SF         20          0     0   \n",
       "4         1           tcp    telnet  RSTO          0         15     0   \n",
       "\n",
       "   wrong_fragment  urgent  hot  ...  dst_host_count  dst_host_srv_count  \\\n",
       "0               0       0    0  ...             255                  10   \n",
       "1               0       0    0  ...             255                   1   \n",
       "2               0       0    0  ...             134                  86   \n",
       "3               0       0    0  ...               3                  57   \n",
       "4               0       0    0  ...              29                  86   \n",
       "\n",
       "   dst_host_same_srv_rate  dst_host_diff_srv_rate  \\\n",
       "0                    0.04                    0.06   \n",
       "1                    0.00                    0.06   \n",
       "2                    0.61                    0.04   \n",
       "3                    1.00                    0.00   \n",
       "4                    0.31                    0.17   \n",
       "\n",
       "   dst_host_same_src_port_rate  dst_host_srv_diff_host_rate  \\\n",
       "0                         0.00                         0.00   \n",
       "1                         0.00                         0.00   \n",
       "2                         0.61                         0.02   \n",
       "3                         1.00                         0.28   \n",
       "4                         0.03                         0.02   \n",
       "\n",
       "   dst_host_serror_rate  dst_host_srv_serror_rate  dst_host_rerror_rate  \\\n",
       "0                   0.0                       0.0                  1.00   \n",
       "1                   0.0                       0.0                  1.00   \n",
       "2                   0.0                       0.0                  0.00   \n",
       "3                   0.0                       0.0                  0.00   \n",
       "4                   0.0                       0.0                  0.83   \n",
       "\n",
       "   dst_host_srv_rerror_rate  \n",
       "0                      1.00  \n",
       "1                      1.00  \n",
       "2                      0.00  \n",
       "3                      0.00  \n",
       "4                      0.71  \n",
       "\n",
       "[5 rows x 41 columns]"
      ]
     },
     "execution_count": 38,
     "metadata": {},
     "output_type": "execute_result"
    }
   ],
   "source": [
    "train.head()"
   ]
  },
  {
   "cell_type": "markdown",
   "id": "6662a94a",
   "metadata": {},
   "source": [
    "## take a look at the description of the dataset train"
   ]
  },
  {
   "cell_type": "code",
   "execution_count": 39,
   "id": "2ce1718d",
   "metadata": {
    "execution": {
     "iopub.execute_input": "2022-09-14T13:02:29.941446Z",
     "iopub.status.busy": "2022-09-14T13:02:29.940527Z",
     "iopub.status.idle": "2022-09-14T13:02:30.086569Z",
     "shell.execute_reply": "2022-09-14T13:02:30.085290Z"
    },
    "id": "V_5IRjy6gaMx",
    "outputId": "30026466-1dd0-458f-db6d-106b5db22b0b",
    "papermill": {
     "duration": 0.165858,
     "end_time": "2022-09-14T13:02:30.089174",
     "exception": false,
     "start_time": "2022-09-14T13:02:29.923316",
     "status": "completed"
    },
    "tags": []
   },
   "outputs": [
    {
     "data": {
      "text/html": [
       "<div>\n",
       "<style scoped>\n",
       "    .dataframe tbody tr th:only-of-type {\n",
       "        vertical-align: middle;\n",
       "    }\n",
       "\n",
       "    .dataframe tbody tr th {\n",
       "        vertical-align: top;\n",
       "    }\n",
       "\n",
       "    .dataframe thead th {\n",
       "        text-align: right;\n",
       "    }\n",
       "</style>\n",
       "<table border=\"1\" class=\"dataframe\">\n",
       "  <thead>\n",
       "    <tr style=\"text-align: right;\">\n",
       "      <th></th>\n",
       "      <th>duration</th>\n",
       "      <th>src_bytes</th>\n",
       "      <th>dst_bytes</th>\n",
       "      <th>land</th>\n",
       "      <th>wrong_fragment</th>\n",
       "      <th>urgent</th>\n",
       "      <th>hot</th>\n",
       "      <th>num_failed_logins</th>\n",
       "      <th>logged_in</th>\n",
       "      <th>num_compromised</th>\n",
       "      <th>...</th>\n",
       "      <th>dst_host_count</th>\n",
       "      <th>dst_host_srv_count</th>\n",
       "      <th>dst_host_same_srv_rate</th>\n",
       "      <th>dst_host_diff_srv_rate</th>\n",
       "      <th>dst_host_same_src_port_rate</th>\n",
       "      <th>dst_host_srv_diff_host_rate</th>\n",
       "      <th>dst_host_serror_rate</th>\n",
       "      <th>dst_host_srv_serror_rate</th>\n",
       "      <th>dst_host_rerror_rate</th>\n",
       "      <th>dst_host_srv_rerror_rate</th>\n",
       "    </tr>\n",
       "  </thead>\n",
       "  <tbody>\n",
       "    <tr>\n",
       "      <th>count</th>\n",
       "      <td>22544.000000</td>\n",
       "      <td>2.254400e+04</td>\n",
       "      <td>2.254400e+04</td>\n",
       "      <td>22544.000000</td>\n",
       "      <td>22544.000000</td>\n",
       "      <td>22544.000000</td>\n",
       "      <td>22544.000000</td>\n",
       "      <td>22544.000000</td>\n",
       "      <td>22544.000000</td>\n",
       "      <td>22544.000000</td>\n",
       "      <td>...</td>\n",
       "      <td>22544.000000</td>\n",
       "      <td>22544.000000</td>\n",
       "      <td>22544.000000</td>\n",
       "      <td>22544.000000</td>\n",
       "      <td>22544.000000</td>\n",
       "      <td>22544.000000</td>\n",
       "      <td>22544.000000</td>\n",
       "      <td>22544.000000</td>\n",
       "      <td>22544.000000</td>\n",
       "      <td>22544.000000</td>\n",
       "    </tr>\n",
       "    <tr>\n",
       "      <th>mean</th>\n",
       "      <td>218.859076</td>\n",
       "      <td>1.039545e+04</td>\n",
       "      <td>2.056019e+03</td>\n",
       "      <td>0.000311</td>\n",
       "      <td>0.008428</td>\n",
       "      <td>0.000710</td>\n",
       "      <td>0.105394</td>\n",
       "      <td>0.021647</td>\n",
       "      <td>0.442202</td>\n",
       "      <td>0.119899</td>\n",
       "      <td>...</td>\n",
       "      <td>193.869411</td>\n",
       "      <td>140.750532</td>\n",
       "      <td>0.608722</td>\n",
       "      <td>0.090540</td>\n",
       "      <td>0.132261</td>\n",
       "      <td>0.019638</td>\n",
       "      <td>0.097814</td>\n",
       "      <td>0.099426</td>\n",
       "      <td>0.233385</td>\n",
       "      <td>0.226683</td>\n",
       "    </tr>\n",
       "    <tr>\n",
       "      <th>std</th>\n",
       "      <td>1407.176612</td>\n",
       "      <td>4.727864e+05</td>\n",
       "      <td>2.121930e+04</td>\n",
       "      <td>0.017619</td>\n",
       "      <td>0.142599</td>\n",
       "      <td>0.036473</td>\n",
       "      <td>0.928428</td>\n",
       "      <td>0.150328</td>\n",
       "      <td>0.496659</td>\n",
       "      <td>7.269597</td>\n",
       "      <td>...</td>\n",
       "      <td>94.035663</td>\n",
       "      <td>111.783972</td>\n",
       "      <td>0.435688</td>\n",
       "      <td>0.220717</td>\n",
       "      <td>0.306268</td>\n",
       "      <td>0.085394</td>\n",
       "      <td>0.273139</td>\n",
       "      <td>0.281866</td>\n",
       "      <td>0.387229</td>\n",
       "      <td>0.400875</td>\n",
       "    </tr>\n",
       "    <tr>\n",
       "      <th>min</th>\n",
       "      <td>0.000000</td>\n",
       "      <td>0.000000e+00</td>\n",
       "      <td>0.000000e+00</td>\n",
       "      <td>0.000000</td>\n",
       "      <td>0.000000</td>\n",
       "      <td>0.000000</td>\n",
       "      <td>0.000000</td>\n",
       "      <td>0.000000</td>\n",
       "      <td>0.000000</td>\n",
       "      <td>0.000000</td>\n",
       "      <td>...</td>\n",
       "      <td>0.000000</td>\n",
       "      <td>0.000000</td>\n",
       "      <td>0.000000</td>\n",
       "      <td>0.000000</td>\n",
       "      <td>0.000000</td>\n",
       "      <td>0.000000</td>\n",
       "      <td>0.000000</td>\n",
       "      <td>0.000000</td>\n",
       "      <td>0.000000</td>\n",
       "      <td>0.000000</td>\n",
       "    </tr>\n",
       "    <tr>\n",
       "      <th>25%</th>\n",
       "      <td>0.000000</td>\n",
       "      <td>0.000000e+00</td>\n",
       "      <td>0.000000e+00</td>\n",
       "      <td>0.000000</td>\n",
       "      <td>0.000000</td>\n",
       "      <td>0.000000</td>\n",
       "      <td>0.000000</td>\n",
       "      <td>0.000000</td>\n",
       "      <td>0.000000</td>\n",
       "      <td>0.000000</td>\n",
       "      <td>...</td>\n",
       "      <td>121.000000</td>\n",
       "      <td>15.000000</td>\n",
       "      <td>0.070000</td>\n",
       "      <td>0.000000</td>\n",
       "      <td>0.000000</td>\n",
       "      <td>0.000000</td>\n",
       "      <td>0.000000</td>\n",
       "      <td>0.000000</td>\n",
       "      <td>0.000000</td>\n",
       "      <td>0.000000</td>\n",
       "    </tr>\n",
       "    <tr>\n",
       "      <th>50%</th>\n",
       "      <td>0.000000</td>\n",
       "      <td>5.400000e+01</td>\n",
       "      <td>4.600000e+01</td>\n",
       "      <td>0.000000</td>\n",
       "      <td>0.000000</td>\n",
       "      <td>0.000000</td>\n",
       "      <td>0.000000</td>\n",
       "      <td>0.000000</td>\n",
       "      <td>0.000000</td>\n",
       "      <td>0.000000</td>\n",
       "      <td>...</td>\n",
       "      <td>255.000000</td>\n",
       "      <td>168.000000</td>\n",
       "      <td>0.920000</td>\n",
       "      <td>0.010000</td>\n",
       "      <td>0.000000</td>\n",
       "      <td>0.000000</td>\n",
       "      <td>0.000000</td>\n",
       "      <td>0.000000</td>\n",
       "      <td>0.000000</td>\n",
       "      <td>0.000000</td>\n",
       "    </tr>\n",
       "    <tr>\n",
       "      <th>75%</th>\n",
       "      <td>0.000000</td>\n",
       "      <td>2.870000e+02</td>\n",
       "      <td>6.010000e+02</td>\n",
       "      <td>0.000000</td>\n",
       "      <td>0.000000</td>\n",
       "      <td>0.000000</td>\n",
       "      <td>0.000000</td>\n",
       "      <td>0.000000</td>\n",
       "      <td>1.000000</td>\n",
       "      <td>0.000000</td>\n",
       "      <td>...</td>\n",
       "      <td>255.000000</td>\n",
       "      <td>255.000000</td>\n",
       "      <td>1.000000</td>\n",
       "      <td>0.060000</td>\n",
       "      <td>0.030000</td>\n",
       "      <td>0.010000</td>\n",
       "      <td>0.000000</td>\n",
       "      <td>0.000000</td>\n",
       "      <td>0.360000</td>\n",
       "      <td>0.170000</td>\n",
       "    </tr>\n",
       "    <tr>\n",
       "      <th>max</th>\n",
       "      <td>57715.000000</td>\n",
       "      <td>6.282565e+07</td>\n",
       "      <td>1.345927e+06</td>\n",
       "      <td>1.000000</td>\n",
       "      <td>3.000000</td>\n",
       "      <td>3.000000</td>\n",
       "      <td>101.000000</td>\n",
       "      <td>4.000000</td>\n",
       "      <td>1.000000</td>\n",
       "      <td>796.000000</td>\n",
       "      <td>...</td>\n",
       "      <td>255.000000</td>\n",
       "      <td>255.000000</td>\n",
       "      <td>1.000000</td>\n",
       "      <td>1.000000</td>\n",
       "      <td>1.000000</td>\n",
       "      <td>1.000000</td>\n",
       "      <td>1.000000</td>\n",
       "      <td>1.000000</td>\n",
       "      <td>1.000000</td>\n",
       "      <td>1.000000</td>\n",
       "    </tr>\n",
       "  </tbody>\n",
       "</table>\n",
       "<p>8 rows × 38 columns</p>\n",
       "</div>"
      ],
      "text/plain": [
       "           duration     src_bytes     dst_bytes          land  wrong_fragment  \\\n",
       "count  22544.000000  2.254400e+04  2.254400e+04  22544.000000    22544.000000   \n",
       "mean     218.859076  1.039545e+04  2.056019e+03      0.000311        0.008428   \n",
       "std     1407.176612  4.727864e+05  2.121930e+04      0.017619        0.142599   \n",
       "min        0.000000  0.000000e+00  0.000000e+00      0.000000        0.000000   \n",
       "25%        0.000000  0.000000e+00  0.000000e+00      0.000000        0.000000   \n",
       "50%        0.000000  5.400000e+01  4.600000e+01      0.000000        0.000000   \n",
       "75%        0.000000  2.870000e+02  6.010000e+02      0.000000        0.000000   \n",
       "max    57715.000000  6.282565e+07  1.345927e+06      1.000000        3.000000   \n",
       "\n",
       "             urgent           hot  num_failed_logins     logged_in  \\\n",
       "count  22544.000000  22544.000000       22544.000000  22544.000000   \n",
       "mean       0.000710      0.105394           0.021647      0.442202   \n",
       "std        0.036473      0.928428           0.150328      0.496659   \n",
       "min        0.000000      0.000000           0.000000      0.000000   \n",
       "25%        0.000000      0.000000           0.000000      0.000000   \n",
       "50%        0.000000      0.000000           0.000000      0.000000   \n",
       "75%        0.000000      0.000000           0.000000      1.000000   \n",
       "max        3.000000    101.000000           4.000000      1.000000   \n",
       "\n",
       "       num_compromised  ...  dst_host_count  dst_host_srv_count  \\\n",
       "count     22544.000000  ...    22544.000000        22544.000000   \n",
       "mean          0.119899  ...      193.869411          140.750532   \n",
       "std           7.269597  ...       94.035663          111.783972   \n",
       "min           0.000000  ...        0.000000            0.000000   \n",
       "25%           0.000000  ...      121.000000           15.000000   \n",
       "50%           0.000000  ...      255.000000          168.000000   \n",
       "75%           0.000000  ...      255.000000          255.000000   \n",
       "max         796.000000  ...      255.000000          255.000000   \n",
       "\n",
       "       dst_host_same_srv_rate  dst_host_diff_srv_rate  \\\n",
       "count            22544.000000            22544.000000   \n",
       "mean                 0.608722                0.090540   \n",
       "std                  0.435688                0.220717   \n",
       "min                  0.000000                0.000000   \n",
       "25%                  0.070000                0.000000   \n",
       "50%                  0.920000                0.010000   \n",
       "75%                  1.000000                0.060000   \n",
       "max                  1.000000                1.000000   \n",
       "\n",
       "       dst_host_same_src_port_rate  dst_host_srv_diff_host_rate  \\\n",
       "count                 22544.000000                 22544.000000   \n",
       "mean                      0.132261                     0.019638   \n",
       "std                       0.306268                     0.085394   \n",
       "min                       0.000000                     0.000000   \n",
       "25%                       0.000000                     0.000000   \n",
       "50%                       0.000000                     0.000000   \n",
       "75%                       0.030000                     0.010000   \n",
       "max                       1.000000                     1.000000   \n",
       "\n",
       "       dst_host_serror_rate  dst_host_srv_serror_rate  dst_host_rerror_rate  \\\n",
       "count          22544.000000              22544.000000          22544.000000   \n",
       "mean               0.097814                  0.099426              0.233385   \n",
       "std                0.273139                  0.281866              0.387229   \n",
       "min                0.000000                  0.000000              0.000000   \n",
       "25%                0.000000                  0.000000              0.000000   \n",
       "50%                0.000000                  0.000000              0.000000   \n",
       "75%                0.000000                  0.000000              0.360000   \n",
       "max                1.000000                  1.000000              1.000000   \n",
       "\n",
       "       dst_host_srv_rerror_rate  \n",
       "count              22544.000000  \n",
       "mean                   0.226683  \n",
       "std                    0.400875  \n",
       "min                    0.000000  \n",
       "25%                    0.000000  \n",
       "50%                    0.000000  \n",
       "75%                    0.170000  \n",
       "max                    1.000000  \n",
       "\n",
       "[8 rows x 38 columns]"
      ]
     },
     "execution_count": 39,
     "metadata": {},
     "output_type": "execute_result"
    }
   ],
   "source": [
    "train.describe()"
   ]
  },
  {
   "cell_type": "markdown",
   "id": "87a3c87f",
   "metadata": {},
   "source": [
    "# Summarize Categorical Data in train DataFrame"
   ]
  },
  {
   "cell_type": "code",
   "execution_count": 40,
   "id": "df5b3879",
   "metadata": {
    "execution": {
     "iopub.execute_input": "2022-09-14T13:02:30.124219Z",
     "iopub.status.busy": "2022-09-14T13:02:30.123797Z",
     "iopub.status.idle": "2022-09-14T13:02:30.156243Z",
     "shell.execute_reply": "2022-09-14T13:02:30.155017Z"
    },
    "id": "05-c8t1ZgaMx",
    "outputId": "e31e2c95-4b15-4173-8d44-6a72e7a87991",
    "papermill": {
     "duration": 0.053344,
     "end_time": "2022-09-14T13:02:30.158887",
     "exception": false,
     "start_time": "2022-09-14T13:02:30.105543",
     "status": "completed"
    },
    "tags": []
   },
   "outputs": [
    {
     "data": {
      "text/html": [
       "<div>\n",
       "<style scoped>\n",
       "    .dataframe tbody tr th:only-of-type {\n",
       "        vertical-align: middle;\n",
       "    }\n",
       "\n",
       "    .dataframe tbody tr th {\n",
       "        vertical-align: top;\n",
       "    }\n",
       "\n",
       "    .dataframe thead th {\n",
       "        text-align: right;\n",
       "    }\n",
       "</style>\n",
       "<table border=\"1\" class=\"dataframe\">\n",
       "  <thead>\n",
       "    <tr style=\"text-align: right;\">\n",
       "      <th></th>\n",
       "      <th>protocol_type</th>\n",
       "      <th>service</th>\n",
       "      <th>flag</th>\n",
       "    </tr>\n",
       "  </thead>\n",
       "  <tbody>\n",
       "    <tr>\n",
       "      <th>count</th>\n",
       "      <td>22544</td>\n",
       "      <td>22544</td>\n",
       "      <td>22544</td>\n",
       "    </tr>\n",
       "    <tr>\n",
       "      <th>unique</th>\n",
       "      <td>3</td>\n",
       "      <td>64</td>\n",
       "      <td>11</td>\n",
       "    </tr>\n",
       "    <tr>\n",
       "      <th>top</th>\n",
       "      <td>tcp</td>\n",
       "      <td>http</td>\n",
       "      <td>SF</td>\n",
       "    </tr>\n",
       "    <tr>\n",
       "      <th>freq</th>\n",
       "      <td>18880</td>\n",
       "      <td>7853</td>\n",
       "      <td>14875</td>\n",
       "    </tr>\n",
       "  </tbody>\n",
       "</table>\n",
       "</div>"
      ],
      "text/plain": [
       "       protocol_type service   flag\n",
       "count          22544   22544  22544\n",
       "unique             3      64     11\n",
       "top              tcp    http     SF\n",
       "freq           18880    7853  14875"
      ]
     },
     "execution_count": 40,
     "metadata": {},
     "output_type": "execute_result"
    }
   ],
   "source": [
    "train.describe(include='object')"
   ]
  },
  {
   "cell_type": "markdown",
   "id": "63c3b854",
   "metadata": {
    "id": "ua_xXMFNgaMy",
    "papermill": {
     "duration": 0.015938,
     "end_time": "2022-09-14T13:02:30.191217",
     "exception": false,
     "start_time": "2022-09-14T13:02:30.175279",
     "status": "completed"
    },
    "tags": []
   },
   "source": [
    "## Check for Missing Data"
   ]
  },
  {
   "cell_type": "code",
   "execution_count": 41,
   "id": "bfb8f514",
   "metadata": {
    "execution": {
     "iopub.execute_input": "2022-09-14T13:02:30.227278Z",
     "iopub.status.busy": "2022-09-14T13:02:30.226396Z",
     "iopub.status.idle": "2022-09-14T13:02:30.246150Z",
     "shell.execute_reply": "2022-09-14T13:02:30.245133Z"
    },
    "id": "DiH8ErLIgaMy",
    "outputId": "176140c8-e224-4813-9192-0af7e8c85f8e",
    "papermill": {
     "duration": 0.04036,
     "end_time": "2022-09-14T13:02:30.248734",
     "exception": false,
     "start_time": "2022-09-14T13:02:30.208374",
     "status": "completed"
    },
    "tags": []
   },
   "outputs": [],
   "source": [
    "total = train.shape[0]\n",
    "missing_columns = [col for col in train.columns if train[col].isnull().sum() > 0]\n",
    "for col in missing_columns:\n",
    "    null_count = train[col].isnull().sum()\n",
    "    per = (null_count/total) * 100\n",
    "    print(f\"{col}: {null_count} ({round(per, 3)}%)\")"
   ]
  },
  {
   "cell_type": "markdown",
   "id": "86c286c8",
   "metadata": {
    "id": "jOq9F5K6gaMy",
    "papermill": {
     "duration": 0.015985,
     "end_time": "2022-09-14T13:02:30.280938",
     "exception": false,
     "start_time": "2022-09-14T13:02:30.264953",
     "status": "completed"
    },
    "tags": []
   },
   "source": [
    "No missing values"
   ]
  },
  {
   "cell_type": "markdown",
   "id": "d8d6c707",
   "metadata": {
    "id": "euHyjfVMgaMz",
    "papermill": {
     "duration": 0.016208,
     "end_time": "2022-09-14T13:02:30.313515",
     "exception": false,
     "start_time": "2022-09-14T13:02:30.297307",
     "status": "completed"
    },
    "tags": []
   },
   "source": [
    "## Check for Duplicates "
   ]
  },
  {
   "cell_type": "code",
   "execution_count": 42,
   "id": "d2e30645",
   "metadata": {
    "execution": {
     "iopub.execute_input": "2022-09-14T13:02:30.348416Z",
     "iopub.status.busy": "2022-09-14T13:02:30.347584Z",
     "iopub.status.idle": "2022-09-14T13:02:30.385741Z",
     "shell.execute_reply": "2022-09-14T13:02:30.383929Z"
    },
    "id": "KJFa6rSegaMz",
    "outputId": "51822641-c679-440b-c137-8cc11d007c37",
    "papermill": {
     "duration": 0.058791,
     "end_time": "2022-09-14T13:02:30.388534",
     "exception": false,
     "start_time": "2022-09-14T13:02:30.329743",
     "status": "completed"
    },
    "tags": []
   },
   "outputs": [
    {
     "name": "stdout",
     "output_type": "stream",
     "text": [
      "Number of duplicate rows: 57\n"
     ]
    }
   ],
   "source": [
    "print(f\"Number of duplicate rows: {train.duplicated().sum()}\")"
   ]
  },
  {
   "cell_type": "markdown",
   "id": "45b22817",
   "metadata": {
    "id": "N7GLuqWSgaM2",
    "papermill": {
     "duration": 0.02639,
     "end_time": "2022-09-14T13:02:38.349153",
     "exception": false,
     "start_time": "2022-09-14T13:02:38.322763",
     "status": "completed"
    },
    "tags": []
   },
   "source": [
    "# Label Encoding"
   ]
  },
  {
   "cell_type": "code",
   "execution_count": 43,
   "id": "25f174bf",
   "metadata": {
    "execution": {
     "iopub.execute_input": "2022-09-14T13:02:38.404339Z",
     "iopub.status.busy": "2022-09-14T13:02:38.403407Z",
     "iopub.status.idle": "2022-09-14T13:02:38.459863Z",
     "shell.execute_reply": "2022-09-14T13:02:38.458963Z"
    },
    "id": "UeGCZJArgaM2",
    "papermill": {
     "duration": 0.087092,
     "end_time": "2022-09-14T13:02:38.462617",
     "exception": false,
     "start_time": "2022-09-14T13:02:38.375525",
     "status": "completed"
    },
    "tags": []
   },
   "outputs": [],
   "source": [
    "def le(df):\n",
    "    for col in df.columns:\n",
    "        if df[col].dtype == 'object':\n",
    "                label_encoder = LabelEncoder()\n",
    "                df[col] = label_encoder.fit_transform(df[col])\n",
    "\n",
    "le(train)\n",
    "le(test)"
   ]
  },
  {
   "cell_type": "markdown",
   "id": "10dcdc6a",
   "metadata": {},
   "source": [
    "## Dropping the num_outbound_cmds Column and Displaying the First Few Rows of the Training Data\n"
   ]
  },
  {
   "cell_type": "code",
   "execution_count": 44,
   "id": "fa7aafdb",
   "metadata": {
    "execution": {
     "iopub.execute_input": "2022-09-14T13:02:38.519014Z",
     "iopub.status.busy": "2022-09-14T13:02:38.518286Z",
     "iopub.status.idle": "2022-09-14T13:02:38.555790Z",
     "shell.execute_reply": "2022-09-14T13:02:38.554848Z"
    },
    "id": "dxC3YNaEgaM2",
    "outputId": "fe83e7de-8394-43e0-dc32-11318e924300",
    "papermill": {
     "duration": 0.068088,
     "end_time": "2022-09-14T13:02:38.558158",
     "exception": false,
     "start_time": "2022-09-14T13:02:38.490070",
     "status": "completed"
    },
    "tags": []
   },
   "outputs": [
    {
     "data": {
      "text/html": [
       "<div>\n",
       "<style scoped>\n",
       "    .dataframe tbody tr th:only-of-type {\n",
       "        vertical-align: middle;\n",
       "    }\n",
       "\n",
       "    .dataframe tbody tr th {\n",
       "        vertical-align: top;\n",
       "    }\n",
       "\n",
       "    .dataframe thead th {\n",
       "        text-align: right;\n",
       "    }\n",
       "</style>\n",
       "<table border=\"1\" class=\"dataframe\">\n",
       "  <thead>\n",
       "    <tr style=\"text-align: right;\">\n",
       "      <th></th>\n",
       "      <th>duration</th>\n",
       "      <th>protocol_type</th>\n",
       "      <th>service</th>\n",
       "      <th>flag</th>\n",
       "      <th>src_bytes</th>\n",
       "      <th>dst_bytes</th>\n",
       "      <th>land</th>\n",
       "      <th>wrong_fragment</th>\n",
       "      <th>urgent</th>\n",
       "      <th>hot</th>\n",
       "      <th>...</th>\n",
       "      <th>dst_host_count</th>\n",
       "      <th>dst_host_srv_count</th>\n",
       "      <th>dst_host_same_srv_rate</th>\n",
       "      <th>dst_host_diff_srv_rate</th>\n",
       "      <th>dst_host_same_src_port_rate</th>\n",
       "      <th>dst_host_srv_diff_host_rate</th>\n",
       "      <th>dst_host_serror_rate</th>\n",
       "      <th>dst_host_srv_serror_rate</th>\n",
       "      <th>dst_host_rerror_rate</th>\n",
       "      <th>dst_host_srv_rerror_rate</th>\n",
       "    </tr>\n",
       "  </thead>\n",
       "  <tbody>\n",
       "    <tr>\n",
       "      <th>0</th>\n",
       "      <td>0</td>\n",
       "      <td>1</td>\n",
       "      <td>45</td>\n",
       "      <td>1</td>\n",
       "      <td>0</td>\n",
       "      <td>0</td>\n",
       "      <td>0</td>\n",
       "      <td>0</td>\n",
       "      <td>0</td>\n",
       "      <td>0</td>\n",
       "      <td>...</td>\n",
       "      <td>255</td>\n",
       "      <td>10</td>\n",
       "      <td>0.04</td>\n",
       "      <td>0.06</td>\n",
       "      <td>0.00</td>\n",
       "      <td>0.00</td>\n",
       "      <td>0.0</td>\n",
       "      <td>0.0</td>\n",
       "      <td>1.00</td>\n",
       "      <td>1.00</td>\n",
       "    </tr>\n",
       "    <tr>\n",
       "      <th>1</th>\n",
       "      <td>0</td>\n",
       "      <td>1</td>\n",
       "      <td>45</td>\n",
       "      <td>1</td>\n",
       "      <td>0</td>\n",
       "      <td>0</td>\n",
       "      <td>0</td>\n",
       "      <td>0</td>\n",
       "      <td>0</td>\n",
       "      <td>0</td>\n",
       "      <td>...</td>\n",
       "      <td>255</td>\n",
       "      <td>1</td>\n",
       "      <td>0.00</td>\n",
       "      <td>0.06</td>\n",
       "      <td>0.00</td>\n",
       "      <td>0.00</td>\n",
       "      <td>0.0</td>\n",
       "      <td>0.0</td>\n",
       "      <td>1.00</td>\n",
       "      <td>1.00</td>\n",
       "    </tr>\n",
       "    <tr>\n",
       "      <th>2</th>\n",
       "      <td>2</td>\n",
       "      <td>1</td>\n",
       "      <td>19</td>\n",
       "      <td>9</td>\n",
       "      <td>12983</td>\n",
       "      <td>0</td>\n",
       "      <td>0</td>\n",
       "      <td>0</td>\n",
       "      <td>0</td>\n",
       "      <td>0</td>\n",
       "      <td>...</td>\n",
       "      <td>134</td>\n",
       "      <td>86</td>\n",
       "      <td>0.61</td>\n",
       "      <td>0.04</td>\n",
       "      <td>0.61</td>\n",
       "      <td>0.02</td>\n",
       "      <td>0.0</td>\n",
       "      <td>0.0</td>\n",
       "      <td>0.00</td>\n",
       "      <td>0.00</td>\n",
       "    </tr>\n",
       "    <tr>\n",
       "      <th>3</th>\n",
       "      <td>0</td>\n",
       "      <td>0</td>\n",
       "      <td>13</td>\n",
       "      <td>9</td>\n",
       "      <td>20</td>\n",
       "      <td>0</td>\n",
       "      <td>0</td>\n",
       "      <td>0</td>\n",
       "      <td>0</td>\n",
       "      <td>0</td>\n",
       "      <td>...</td>\n",
       "      <td>3</td>\n",
       "      <td>57</td>\n",
       "      <td>1.00</td>\n",
       "      <td>0.00</td>\n",
       "      <td>1.00</td>\n",
       "      <td>0.28</td>\n",
       "      <td>0.0</td>\n",
       "      <td>0.0</td>\n",
       "      <td>0.00</td>\n",
       "      <td>0.00</td>\n",
       "    </tr>\n",
       "    <tr>\n",
       "      <th>4</th>\n",
       "      <td>1</td>\n",
       "      <td>1</td>\n",
       "      <td>55</td>\n",
       "      <td>2</td>\n",
       "      <td>0</td>\n",
       "      <td>15</td>\n",
       "      <td>0</td>\n",
       "      <td>0</td>\n",
       "      <td>0</td>\n",
       "      <td>0</td>\n",
       "      <td>...</td>\n",
       "      <td>29</td>\n",
       "      <td>86</td>\n",
       "      <td>0.31</td>\n",
       "      <td>0.17</td>\n",
       "      <td>0.03</td>\n",
       "      <td>0.02</td>\n",
       "      <td>0.0</td>\n",
       "      <td>0.0</td>\n",
       "      <td>0.83</td>\n",
       "      <td>0.71</td>\n",
       "    </tr>\n",
       "  </tbody>\n",
       "</table>\n",
       "<p>5 rows × 40 columns</p>\n",
       "</div>"
      ],
      "text/plain": [
       "   duration  protocol_type  service  flag  src_bytes  dst_bytes  land  \\\n",
       "0         0              1       45     1          0          0     0   \n",
       "1         0              1       45     1          0          0     0   \n",
       "2         2              1       19     9      12983          0     0   \n",
       "3         0              0       13     9         20          0     0   \n",
       "4         1              1       55     2          0         15     0   \n",
       "\n",
       "   wrong_fragment  urgent  hot  ...  dst_host_count  dst_host_srv_count  \\\n",
       "0               0       0    0  ...             255                  10   \n",
       "1               0       0    0  ...             255                   1   \n",
       "2               0       0    0  ...             134                  86   \n",
       "3               0       0    0  ...               3                  57   \n",
       "4               0       0    0  ...              29                  86   \n",
       "\n",
       "   dst_host_same_srv_rate  dst_host_diff_srv_rate  \\\n",
       "0                    0.04                    0.06   \n",
       "1                    0.00                    0.06   \n",
       "2                    0.61                    0.04   \n",
       "3                    1.00                    0.00   \n",
       "4                    0.31                    0.17   \n",
       "\n",
       "   dst_host_same_src_port_rate  dst_host_srv_diff_host_rate  \\\n",
       "0                         0.00                         0.00   \n",
       "1                         0.00                         0.00   \n",
       "2                         0.61                         0.02   \n",
       "3                         1.00                         0.28   \n",
       "4                         0.03                         0.02   \n",
       "\n",
       "   dst_host_serror_rate  dst_host_srv_serror_rate  dst_host_rerror_rate  \\\n",
       "0                   0.0                       0.0                  1.00   \n",
       "1                   0.0                       0.0                  1.00   \n",
       "2                   0.0                       0.0                  0.00   \n",
       "3                   0.0                       0.0                  0.00   \n",
       "4                   0.0                       0.0                  0.83   \n",
       "\n",
       "   dst_host_srv_rerror_rate  \n",
       "0                      1.00  \n",
       "1                      1.00  \n",
       "2                      0.00  \n",
       "3                      0.00  \n",
       "4                      0.71  \n",
       "\n",
       "[5 rows x 40 columns]"
      ]
     },
     "execution_count": 44,
     "metadata": {},
     "output_type": "execute_result"
    }
   ],
   "source": [
    "train.drop(['num_outbound_cmds'], axis=1, inplace=True)\n",
    "test.drop(['num_outbound_cmds'], axis=1, inplace=True)\n",
    "train.head()"
   ]
  },
  {
   "cell_type": "markdown",
   "id": "613db672",
   "metadata": {
    "papermill": {
     "duration": 0.026211,
     "end_time": "2022-09-14T13:02:38.610812",
     "exception": false,
     "start_time": "2022-09-14T13:02:38.584601",
     "status": "completed"
    },
    "tags": []
   },
   "source": [
    "# Feature selection"
   ]
  },
  {
   "cell_type": "code",
   "execution_count": 45,
   "id": "2b5bbc38",
   "metadata": {
    "execution": {
     "iopub.execute_input": "2022-09-14T13:02:38.668252Z",
     "iopub.status.busy": "2022-09-14T13:02:38.667007Z",
     "iopub.status.idle": "2022-09-14T13:02:38.676327Z",
     "shell.execute_reply": "2022-09-14T13:02:38.675360Z"
    },
    "id": "HuoO4AUkgaM2",
    "papermill": {
     "duration": 0.040708,
     "end_time": "2022-09-14T13:02:38.678634",
     "exception": false,
     "start_time": "2022-09-14T13:02:38.637926",
     "status": "completed"
    },
    "tags": []
   },
   "outputs": [
    {
     "name": "stdout",
     "output_type": "stream",
     "text": [
      "Index(['duration', 'protocol_type', 'service', 'flag', 'src_bytes',\n",
      "       'dst_bytes', 'land', 'wrong_fragment', 'urgent', 'hot',\n",
      "       'num_failed_logins', 'logged_in', 'num_compromised', 'root_shell',\n",
      "       'su_attempted', 'num_root', 'num_file_creations', 'num_shells',\n",
      "       'num_access_files', 'is_host_login', 'is_guest_login', 'count',\n",
      "       'srv_count', 'serror_rate', 'srv_serror_rate', 'rerror_rate',\n",
      "       'srv_rerror_rate', 'same_srv_rate', 'diff_srv_rate',\n",
      "       'srv_diff_host_rate', 'dst_host_count', 'dst_host_srv_count',\n",
      "       'dst_host_same_srv_rate', 'dst_host_diff_srv_rate',\n",
      "       'dst_host_same_src_port_rate', 'dst_host_srv_diff_host_rate',\n",
      "       'dst_host_serror_rate', 'dst_host_srv_serror_rate',\n",
      "       'dst_host_rerror_rate', 'dst_host_srv_rerror_rate'],\n",
      "      dtype='object')\n"
     ]
    }
   ],
   "source": [
    "# X_train = train.drop(['class'], axis=1)\n",
    "# Y_train = train['class']\n",
    "print(train.columns)"
   ]
  },
  {
   "cell_type": "code",
   "execution_count": 28,
   "id": "e1647307",
   "metadata": {
    "execution": {
     "iopub.execute_input": "2022-09-14T13:02:38.734806Z",
     "iopub.status.busy": "2022-09-14T13:02:38.733521Z",
     "iopub.status.idle": "2022-09-14T13:03:43.475277Z",
     "shell.execute_reply": "2022-09-14T13:03:43.474141Z"
    },
    "papermill": {
     "duration": 64.799059,
     "end_time": "2022-09-14T13:03:43.504275",
     "exception": false,
     "start_time": "2022-09-14T13:02:38.705216",
     "status": "completed"
    },
    "tags": []
   },
   "outputs": [
    {
     "ename": "NameError",
     "evalue": "name 'X_train' is not defined",
     "output_type": "error",
     "traceback": [
      "\u001b[1;31m---------------------------------------------------------------------------\u001b[0m",
      "\u001b[1;31mNameError\u001b[0m                                 Traceback (most recent call last)",
      "Cell \u001b[1;32mIn[28], line 4\u001b[0m\n\u001b[0;32m      1\u001b[0m rfc \u001b[38;5;241m=\u001b[39m RandomForestClassifier()\n\u001b[0;32m      3\u001b[0m rfe \u001b[38;5;241m=\u001b[39m RFE(rfc, n_features_to_select\u001b[38;5;241m=\u001b[39m\u001b[38;5;241m10\u001b[39m)\n\u001b[1;32m----> 4\u001b[0m rfe \u001b[38;5;241m=\u001b[39m rfe\u001b[38;5;241m.\u001b[39mfit(X_train, Y_train)\n\u001b[0;32m      6\u001b[0m feature_map \u001b[38;5;241m=\u001b[39m [(i, v) \u001b[38;5;28;01mfor\u001b[39;00m i, v \u001b[38;5;129;01min\u001b[39;00m itertools\u001b[38;5;241m.\u001b[39mzip_longest(rfe\u001b[38;5;241m.\u001b[39mget_support(), X_train\u001b[38;5;241m.\u001b[39mcolumns)]\n\u001b[0;32m      7\u001b[0m selected_features \u001b[38;5;241m=\u001b[39m [v \u001b[38;5;28;01mfor\u001b[39;00m i, v \u001b[38;5;129;01min\u001b[39;00m feature_map \u001b[38;5;28;01mif\u001b[39;00m i\u001b[38;5;241m==\u001b[39m\u001b[38;5;28;01mTrue\u001b[39;00m]\n",
      "\u001b[1;31mNameError\u001b[0m: name 'X_train' is not defined"
     ]
    }
   ],
   "source": [
    "rfc = RandomForestClassifier()\n",
    "\n",
    "rfe = RFE(rfc, n_features_to_select=10)\n",
    "rfe = rfe.fit(X_train, Y_train)\n",
    "\n",
    "feature_map = [(i, v) for i, v in itertools.zip_longest(rfe.get_support(), X_train.columns)]\n",
    "selected_features = [v for i, v in feature_map if i==True]\n",
    "\n",
    "selected_features"
   ]
  },
  {
   "cell_type": "code",
   "execution_count": 17,
   "id": "be703ed2",
   "metadata": {
    "execution": {
     "iopub.execute_input": "2022-09-14T13:03:43.560340Z",
     "iopub.status.busy": "2022-09-14T13:03:43.559929Z",
     "iopub.status.idle": "2022-09-14T13:03:43.566789Z",
     "shell.execute_reply": "2022-09-14T13:03:43.565641Z"
    },
    "papermill": {
     "duration": 0.037788,
     "end_time": "2022-09-14T13:03:43.569295",
     "exception": false,
     "start_time": "2022-09-14T13:03:43.531507",
     "status": "completed"
    },
    "tags": []
   },
   "outputs": [],
   "source": [
    "X_train = X_train[selected_features]"
   ]
  },
  {
   "cell_type": "markdown",
   "id": "05e1eab0",
   "metadata": {
    "id": "HedcMiYygaM2",
    "papermill": {
     "duration": 0.026395,
     "end_time": "2022-09-14T13:03:43.622529",
     "exception": false,
     "start_time": "2022-09-14T13:03:43.596134",
     "status": "completed"
    },
    "tags": []
   },
   "source": [
    "# Split and scale data"
   ]
  },
  {
   "cell_type": "code",
   "execution_count": 18,
   "id": "469e6dde",
   "metadata": {
    "execution": {
     "iopub.execute_input": "2022-09-14T13:03:43.678476Z",
     "iopub.status.busy": "2022-09-14T13:03:43.678038Z",
     "iopub.status.idle": "2022-09-14T13:03:43.710416Z",
     "shell.execute_reply": "2022-09-14T13:03:43.709179Z"
    },
    "id": "r6DnBlUogaM3",
    "papermill": {
     "duration": 0.063657,
     "end_time": "2022-09-14T13:03:43.713401",
     "exception": false,
     "start_time": "2022-09-14T13:03:43.649744",
     "status": "completed"
    },
    "tags": []
   },
   "outputs": [],
   "source": [
    "scale = StandardScaler()\n",
    "X_train = scale.fit_transform(X_train)\n",
    "test = scale.fit_transform(test)"
   ]
  },
  {
   "cell_type": "code",
   "execution_count": 19,
   "id": "fcd60729",
   "metadata": {
    "execution": {
     "iopub.execute_input": "2022-09-14T13:03:43.768975Z",
     "iopub.status.busy": "2022-09-14T13:03:43.768259Z",
     "iopub.status.idle": "2022-09-14T13:03:43.778470Z",
     "shell.execute_reply": "2022-09-14T13:03:43.777572Z"
    },
    "papermill": {
     "duration": 0.041322,
     "end_time": "2022-09-14T13:03:43.781432",
     "exception": false,
     "start_time": "2022-09-14T13:03:43.740110",
     "status": "completed"
    },
    "tags": []
   },
   "outputs": [],
   "source": [
    "x_train, x_test, y_train, y_test = train_test_split(X_train, Y_train, train_size=0.70, random_state=2)"
   ]
  },
  {
   "cell_type": "markdown",
   "id": "b8416d1d",
   "metadata": {
    "id": "ky9U56wagaM3",
    "papermill": {
     "duration": 0.026424,
     "end_time": "2022-09-14T13:03:43.835111",
     "exception": false,
     "start_time": "2022-09-14T13:03:43.808687",
     "status": "completed"
    },
    "tags": []
   },
   "source": [
    "# K Nearest Neighbors (KNN) classification model"
   ]
  },
  {
   "cell_type": "code",
   "execution_count": 20,
   "id": "50924650",
   "metadata": {
    "execution": {
     "iopub.execute_input": "2022-09-14T13:03:43.890893Z",
     "iopub.status.busy": "2022-09-14T13:03:43.890389Z",
     "iopub.status.idle": "2022-09-14T13:03:43.897043Z",
     "shell.execute_reply": "2022-09-14T13:03:43.895660Z"
    },
    "id": "h-AVjDgqgaM3",
    "papermill": {
     "duration": 0.03757,
     "end_time": "2022-09-14T13:03:43.899741",
     "exception": false,
     "start_time": "2022-09-14T13:03:43.862171",
     "status": "completed"
    },
    "tags": []
   },
   "outputs": [],
   "source": [
    "def objective(trial):\n",
    "    n_neighbors = trial.suggest_int('KNN_n_neighbors', 2, 16, log=False)\n",
    "    classifier_obj = KNeighborsClassifier(n_neighbors=n_neighbors)\n",
    "    classifier_obj.fit(x_train, y_train)\n",
    "    accuracy = classifier_obj.score(x_test, y_test)\n",
    "    return accuracy"
   ]
  },
  {
   "cell_type": "code",
   "execution_count": 21,
   "id": "9b79caba",
   "metadata": {
    "execution": {
     "iopub.execute_input": "2022-09-14T13:03:43.956602Z",
     "iopub.status.busy": "2022-09-14T13:03:43.955817Z",
     "iopub.status.idle": "2022-09-14T13:03:44.721448Z",
     "shell.execute_reply": "2022-09-14T13:03:44.720217Z"
    },
    "id": "6aYzhDhPgaM3",
    "papermill": {
     "duration": 0.798344,
     "end_time": "2022-09-14T13:03:44.725742",
     "exception": false,
     "start_time": "2022-09-14T13:03:43.927398",
     "status": "completed"
    },
    "tags": []
   },
   "outputs": [
    {
     "name": "stdout",
     "output_type": "stream",
     "text": [
      "FrozenTrial(number=0, values=[0.9769780365175973], datetime_start=datetime.datetime(2022, 9, 14, 13, 3, 43, 960127), datetime_complete=datetime.datetime(2022, 9, 14, 13, 3, 44, 717094), params={'KNN_n_neighbors': 15}, distributions={'KNN_n_neighbors': IntUniformDistribution(high=16, low=2, step=1)}, user_attrs={}, system_attrs={}, intermediate_values={}, trial_id=0, state=TrialState.COMPLETE, value=None)\n"
     ]
    }
   ],
   "source": [
    "study_KNN = optuna.create_study(direction='maximize')\n",
    "study_KNN.optimize(objective, n_trials=1)\n",
    "print(study_KNN.best_trial)"
   ]
  },
  {
   "cell_type": "code",
   "execution_count": 22,
   "id": "5b25c3d5",
   "metadata": {
    "execution": {
     "iopub.execute_input": "2022-09-14T13:03:44.782402Z",
     "iopub.status.busy": "2022-09-14T13:03:44.781329Z",
     "iopub.status.idle": "2022-09-14T13:03:47.341803Z",
     "shell.execute_reply": "2022-09-14T13:03:47.340423Z"
    },
    "id": "urIn1Y_4gaM4",
    "papermill": {
     "duration": 2.591389,
     "end_time": "2022-09-14T13:03:47.344595",
     "exception": false,
     "start_time": "2022-09-14T13:03:44.753206",
     "status": "completed"
    },
    "tags": []
   },
   "outputs": [
    {
     "name": "stdout",
     "output_type": "stream",
     "text": [
      "Train Score: 0.9773165475785415\n",
      "Test Score: 0.9769780365175973\n"
     ]
    }
   ],
   "source": [
    "KNN_model = KNeighborsClassifier(n_neighbors=study_KNN.best_trial.params['KNN_n_neighbors'])\n",
    "KNN_model.fit(x_train, y_train)\n",
    "\n",
    "KNN_train, KNN_test = KNN_model.score(x_train, y_train), KNN_model.score(x_test, y_test)\n",
    "\n",
    "print(f\"Train Score: {KNN_train}\")\n",
    "print(f\"Test Score: {KNN_test}\")"
   ]
  },
  {
   "cell_type": "markdown",
   "id": "2b156881",
   "metadata": {
    "id": "k9wzDDHLgaM4",
    "papermill": {
     "duration": 0.0273,
     "end_time": "2022-09-14T13:03:47.399166",
     "exception": false,
     "start_time": "2022-09-14T13:03:47.371866",
     "status": "completed"
    },
    "tags": []
   },
   "source": [
    "# Logistic Regression Model"
   ]
  },
  {
   "cell_type": "code",
   "execution_count": 23,
   "id": "e8fadebb",
   "metadata": {
    "execution": {
     "iopub.execute_input": "2022-09-14T13:03:47.455369Z",
     "iopub.status.busy": "2022-09-14T13:03:47.454601Z",
     "iopub.status.idle": "2022-09-14T13:03:47.537489Z",
     "shell.execute_reply": "2022-09-14T13:03:47.536186Z"
    },
    "id": "u0HCdzolgaM4",
    "papermill": {
     "duration": 0.115388,
     "end_time": "2022-09-14T13:03:47.541514",
     "exception": false,
     "start_time": "2022-09-14T13:03:47.426126",
     "status": "completed"
    },
    "tags": []
   },
   "outputs": [
    {
     "data": {
      "text/plain": [
       "LogisticRegression(random_state=42)"
      ]
     },
     "execution_count": 23,
     "metadata": {},
     "output_type": "execute_result"
    }
   ],
   "source": [
    "lg_model = LogisticRegression(random_state = 42)\n",
    "lg_model.fit(x_train, y_train)"
   ]
  },
  {
   "cell_type": "code",
   "execution_count": 24,
   "id": "17ff1e3d",
   "metadata": {
    "execution": {
     "iopub.execute_input": "2022-09-14T13:03:47.661682Z",
     "iopub.status.busy": "2022-09-14T13:03:47.661297Z",
     "iopub.status.idle": "2022-09-14T13:03:47.679790Z",
     "shell.execute_reply": "2022-09-14T13:03:47.678168Z"
    },
    "id": "r0g-d30VgaM4",
    "papermill": {
     "duration": 0.07929,
     "end_time": "2022-09-14T13:03:47.687025",
     "exception": false,
     "start_time": "2022-09-14T13:03:47.607735",
     "status": "completed"
    },
    "tags": []
   },
   "outputs": [
    {
     "name": "stdout",
     "output_type": "stream",
     "text": [
      "Training Score: 0.9161846433027107\n",
      "Test Score: 0.9080444562053454\n"
     ]
    }
   ],
   "source": [
    "lg_train, lg_test = lg_model.score(x_train , y_train), lg_model.score(x_test , y_test)\n",
    "\n",
    "print(f\"Training Score: {lg_train}\")\n",
    "print(f\"Test Score: {lg_test}\")"
   ]
  },
  {
   "cell_type": "markdown",
   "id": "7ac76ea3",
   "metadata": {
    "id": "P7WBXL8ggaM4",
    "papermill": {
     "duration": 0.051863,
     "end_time": "2022-09-14T13:03:47.806248",
     "exception": false,
     "start_time": "2022-09-14T13:03:47.754385",
     "status": "completed"
    },
    "tags": []
   },
   "source": [
    "# Decision Tree Classifier"
   ]
  },
  {
   "cell_type": "code",
   "execution_count": 25,
   "id": "b1863f16",
   "metadata": {
    "execution": {
     "iopub.execute_input": "2022-09-14T13:03:47.864469Z",
     "iopub.status.busy": "2022-09-14T13:03:47.864053Z",
     "iopub.status.idle": "2022-09-14T13:03:47.870632Z",
     "shell.execute_reply": "2022-09-14T13:03:47.869540Z"
    },
    "id": "_b1oaLiigaM4",
    "papermill": {
     "duration": 0.037663,
     "end_time": "2022-09-14T13:03:47.872742",
     "exception": false,
     "start_time": "2022-09-14T13:03:47.835079",
     "status": "completed"
    },
    "tags": []
   },
   "outputs": [],
   "source": [
    "def objective(trial):\n",
    "    dt_max_depth = trial.suggest_int('dt_max_depth', 2, 32, log=False)\n",
    "    dt_max_features = trial.suggest_int('dt_max_features', 2, 10, log=False)\n",
    "    classifier_obj = DecisionTreeClassifier(max_features = dt_max_features, max_depth = dt_max_depth)\n",
    "    classifier_obj.fit(x_train, y_train)\n",
    "    accuracy = classifier_obj.score(x_test, y_test)\n",
    "    return accuracy"
   ]
  },
  {
   "cell_type": "code",
   "execution_count": 26,
   "id": "1f5bab08",
   "metadata": {
    "execution": {
     "iopub.execute_input": "2022-09-14T13:03:47.932887Z",
     "iopub.status.busy": "2022-09-14T13:03:47.932162Z",
     "iopub.status.idle": "2022-09-14T13:03:49.227775Z",
     "shell.execute_reply": "2022-09-14T13:03:49.226182Z"
    },
    "id": "0MSIFjHegaM5",
    "outputId": "82a0af29-fe2b-4ad5-b042-e6c526b3835f",
    "papermill": {
     "duration": 1.330164,
     "end_time": "2022-09-14T13:03:49.231485",
     "exception": false,
     "start_time": "2022-09-14T13:03:47.901321",
     "status": "completed"
    },
    "tags": []
   },
   "outputs": [
    {
     "name": "stdout",
     "output_type": "stream",
     "text": [
      "FrozenTrial(number=29, values=[0.9951045250066155], datetime_start=datetime.datetime(2022, 9, 14, 13, 3, 49, 179077), datetime_complete=datetime.datetime(2022, 9, 14, 13, 3, 49, 222594), params={'dt_max_depth': 23, 'dt_max_features': 6}, distributions={'dt_max_depth': IntUniformDistribution(high=32, low=2, step=1), 'dt_max_features': IntUniformDistribution(high=10, low=2, step=1)}, user_attrs={}, system_attrs={}, intermediate_values={}, trial_id=29, state=TrialState.COMPLETE, value=None)\n"
     ]
    }
   ],
   "source": [
    "study_dt = optuna.create_study(direction='maximize')\n",
    "study_dt.optimize(objective, n_trials=30)\n",
    "print(study_dt.best_trial)"
   ]
  },
  {
   "cell_type": "code",
   "execution_count": 27,
   "id": "2ee78f9d",
   "metadata": {
    "execution": {
     "iopub.execute_input": "2022-09-14T13:03:49.288588Z",
     "iopub.status.busy": "2022-09-14T13:03:49.288188Z",
     "iopub.status.idle": "2022-09-14T13:03:49.334338Z",
     "shell.execute_reply": "2022-09-14T13:03:49.332670Z"
    },
    "id": "WwYFY0-pgaM5",
    "outputId": "2ab01dee-7930-495d-e247-049e6e1c5c98",
    "papermill": {
     "duration": 0.077797,
     "end_time": "2022-09-14T13:03:49.337177",
     "exception": false,
     "start_time": "2022-09-14T13:03:49.259380",
     "status": "completed"
    },
    "tags": []
   },
   "outputs": [
    {
     "name": "stdout",
     "output_type": "stream",
     "text": [
      "Train Score: 1.0\n",
      "Test Score: 0.9948399047367028\n"
     ]
    }
   ],
   "source": [
    "dt = DecisionTreeClassifier(max_features = study_dt.best_trial.params['dt_max_features'], max_depth = study_dt.best_trial.params['dt_max_depth'])\n",
    "dt.fit(x_train, y_train)\n",
    "\n",
    "dt_train, dt_test = dt.score(x_train, y_train), dt.score(x_test, y_test)\n",
    "\n",
    "print(f\"Train Score: {dt_train}\")\n",
    "print(f\"Test Score: {dt_test}\")"
   ]
  },
  {
   "cell_type": "code",
   "execution_count": 28,
   "id": "44012117",
   "metadata": {
    "execution": {
     "iopub.execute_input": "2022-09-14T13:03:49.394953Z",
     "iopub.status.busy": "2022-09-14T13:03:49.394501Z",
     "iopub.status.idle": "2022-09-14T13:04:02.666533Z",
     "shell.execute_reply": "2022-09-14T13:04:02.664746Z"
    },
    "id": "J2MbnU_EgaM5",
    "outputId": "e2be03ae-afef-47ce-cfda-16ea06242af9",
    "papermill": {
     "duration": 13.305877,
     "end_time": "2022-09-14T13:04:02.670929",
     "exception": false,
     "start_time": "2022-09-14T13:03:49.365052",
     "status": "completed"
    },
    "tags": []
   },
   "outputs": [
    {
     "data": {
      "image/png": "[encoded data removed]",
      "text/plain": [
       "<Figure size 2160x864 with 1 Axes>"
      ]
     },
     "metadata": {
      "needs_background": "light"
     },
     "output_type": "display_data"
    }
   ],
   "source": [
    "fig = plt.figure(figsize = (30,12))\n",
    "tree.plot_tree(dt, filled=True);\n",
    "plt.show()"
   ]
  },
  {
   "cell_type": "code",
   "execution_count": 29,
   "id": "3ff4846d",
   "metadata": {
    "execution": {
     "iopub.execute_input": "2022-09-14T13:04:02.739420Z",
     "iopub.status.busy": "2022-09-14T13:04:02.738989Z",
     "iopub.status.idle": "2022-09-14T13:04:02.967388Z",
     "shell.execute_reply": "2022-09-14T13:04:02.965979Z"
    },
    "id": "NRMQi6sagaM5",
    "papermill": {
     "duration": 0.266567,
     "end_time": "2022-09-14T13:04:02.970668",
     "exception": false,
     "start_time": "2022-09-14T13:04:02.704101",
     "status": "completed"
    },
    "tags": []
   },
   "outputs": [
    {
     "data": {
      "image/png": "[encoded data removed]",
      "text/plain": [
       "<Figure size 432x288 with 1 Axes>"
      ]
     },
     "metadata": {
      "needs_background": "light"
     },
     "output_type": "display_data"
    }
   ],
   "source": [
    "from matplotlib import pyplot as plt\n",
    "\n",
    "def f_importance(coef, names, top=-1):\n",
    "    imp = coef\n",
    "    imp, names = zip(*sorted(list(zip(imp, names))))\n",
    "\n",
    "    # Show all features\n",
    "    if top == -1:\n",
    "        top = len(names)\n",
    "\n",
    "    plt.barh(range(top), imp[::-1][0:top], align='center')\n",
    "    plt.yticks(range(top), names[::-1][0:top])\n",
    "    plt.title('feature importance for dt')\n",
    "    plt.show()\n",
    "\n",
    "# whatever your features are called\n",
    "features_names = selected_features\n",
    "\n",
    "# Specify your top n features you want to visualize.\n",
    "# You can also discard the abs() function \n",
    "# if you are interested in negative contribution of features\n",
    "f_importance(abs(dt.feature_importances_), features_names, top=7)"
   ]
  },
  {
   "cell_type": "markdown",
   "id": "c41b124b",
   "metadata": {
    "id": "LQuE5mKtgaM5",
    "papermill": {
     "duration": 0.035489,
     "end_time": "2022-09-14T13:04:03.040921",
     "exception": false,
     "start_time": "2022-09-14T13:04:03.005432",
     "status": "completed"
    },
    "tags": []
   },
   "source": [
    "# Random Forest Classifier"
   ]
  },
  {
   "cell_type": "code",
   "execution_count": 30,
   "id": "86966603",
   "metadata": {
    "execution": {
     "iopub.execute_input": "2022-09-14T13:04:03.108174Z",
     "iopub.status.busy": "2022-09-14T13:04:03.107685Z",
     "iopub.status.idle": "2022-09-14T13:04:03.115080Z",
     "shell.execute_reply": "2022-09-14T13:04:03.113934Z"
    },
    "id": "BMtGNGQEgaM5",
    "papermill": {
     "duration": 0.043278,
     "end_time": "2022-09-14T13:04:03.117574",
     "exception": false,
     "start_time": "2022-09-14T13:04:03.074296",
     "status": "completed"
    },
    "tags": []
   },
   "outputs": [],
   "source": [
    "def objective(trial):\n",
    "    rf_max_depth = trial.suggest_int('rf_max_depth', 2, 32, log=False)\n",
    "    rf_max_features = trial.suggest_int('rf_max_features', 2, 10, log=False)\n",
    "    rf_n_estimators = trial.suggest_int('rf_n_estimators', 3, 20, log=False)\n",
    "    classifier_obj = RandomForestClassifier(max_features = rf_max_features, max_depth = rf_max_depth, n_estimators = rf_n_estimators)\n",
    "    classifier_obj.fit(x_train, y_train)\n",
    "    accuracy = classifier_obj.score(x_test, y_test)\n",
    "    return accuracy"
   ]
  },
  {
   "cell_type": "code",
   "execution_count": 31,
   "id": "b2fd19fe",
   "metadata": {
    "execution": {
     "iopub.execute_input": "2022-09-14T13:04:03.182260Z",
     "iopub.status.busy": "2022-09-14T13:04:03.181732Z",
     "iopub.status.idle": "2022-09-14T13:04:10.587250Z",
     "shell.execute_reply": "2022-09-14T13:04:10.585599Z"
    },
    "id": "HMs_LgD4gaM5",
    "papermill": {
     "duration": 7.442284,
     "end_time": "2022-09-14T13:04:10.590652",
     "exception": false,
     "start_time": "2022-09-14T13:04:03.148368",
     "status": "completed"
    },
    "tags": []
   },
   "outputs": [
    {
     "name": "stdout",
     "output_type": "stream",
     "text": [
      "FrozenTrial(number=26, values=[0.9961630060862662], datetime_start=datetime.datetime(2022, 9, 14, 13, 4, 9, 263349), datetime_complete=datetime.datetime(2022, 9, 14, 13, 4, 9, 547239), params={'rf_max_depth': 11, 'rf_max_features': 6, 'rf_n_estimators': 12}, distributions={'rf_max_depth': IntUniformDistribution(high=32, low=2, step=1), 'rf_max_features': IntUniformDistribution(high=10, low=2, step=1), 'rf_n_estimators': IntUniformDistribution(high=20, low=3, step=1)}, user_attrs={}, system_attrs={}, intermediate_values={}, trial_id=26, state=TrialState.COMPLETE, value=None)\n"
     ]
    }
   ],
   "source": [
    "study_rf = optuna.create_study(direction='maximize')\n",
    "study_rf.optimize(objective, n_trials=30)\n",
    "print(study_rf.best_trial)"
   ]
  },
  {
   "cell_type": "code",
   "execution_count": 32,
   "id": "6246279c",
   "metadata": {
    "execution": {
     "iopub.execute_input": "2022-09-14T13:04:10.656357Z",
     "iopub.status.busy": "2022-09-14T13:04:10.655926Z",
     "iopub.status.idle": "2022-09-14T13:04:10.963961Z",
     "shell.execute_reply": "2022-09-14T13:04:10.962390Z"
    },
    "id": "zgBGWPvegaM6",
    "papermill": {
     "duration": 0.343602,
     "end_time": "2022-09-14T13:04:10.966561",
     "exception": false,
     "start_time": "2022-09-14T13:04:10.622959",
     "status": "completed"
    },
    "tags": []
   },
   "outputs": [
    {
     "name": "stdout",
     "output_type": "stream",
     "text": [
      "Train Score: 0.9989792446410344\n",
      "Test Score: 0.9958983858163535\n"
     ]
    }
   ],
   "source": [
    "rf = RandomForestClassifier(max_features = study_rf.best_trial.params['rf_max_features'], max_depth = study_rf.best_trial.params['rf_max_depth'], n_estimators = study_rf.best_trial.params['rf_n_estimators'])\n",
    "rf.fit(x_train, y_train)\n",
    "\n",
    "rf_train, rf_test = rf.score(x_train, y_train), rf.score(x_test, y_test)\n",
    "\n",
    "print(f\"Train Score: {rf_train}\")\n",
    "print(f\"Test Score: {rf_test}\")"
   ]
  },
  {
   "cell_type": "code",
   "execution_count": 33,
   "id": "dc59cb97",
   "metadata": {
    "execution": {
     "iopub.execute_input": "2022-09-14T13:04:11.031554Z",
     "iopub.status.busy": "2022-09-14T13:04:11.031144Z",
     "iopub.status.idle": "2022-09-14T13:04:11.187920Z",
     "shell.execute_reply": "2022-09-14T13:04:11.186735Z"
    },
    "id": "T5gccetigaM6",
    "papermill": {
     "duration": 0.192321,
     "end_time": "2022-09-14T13:04:11.190609",
     "exception": false,
     "start_time": "2022-09-14T13:04:10.998288",
     "status": "completed"
    },
    "tags": []
   },
   "outputs": [
    {
     "data": {
      "image/png": "[encoded data removed]",
      "text/plain": [
       "<Figure size 432x288 with 1 Axes>"
      ]
     },
     "metadata": {
      "needs_background": "light"
     },
     "output_type": "display_data"
    }
   ],
   "source": [
    "from matplotlib import pyplot as plt\n",
    "\n",
    "def f_importance(coef, names, top=-1):\n",
    "    imp = coef\n",
    "    imp, names = zip(*sorted(list(zip(imp, names))))\n",
    "\n",
    "    # Show all features\n",
    "    if top == -1:\n",
    "        top = len(names)\n",
    "\n",
    "    plt.barh(range(top), imp[::-1][0:top], align='center')\n",
    "    plt.yticks(range(top), names[::-1][0:top])\n",
    "    plt.title('feature importance for dt')\n",
    "    plt.show()\n",
    "\n",
    "# whatever your features are called\n",
    "features_names = selected_features\n",
    "\n",
    "# Specify your top n features you want to visualize.\n",
    "# You can also discard the abs() function \n",
    "# if you are interested in negative contribution of features\n",
    "f_importance(abs(rf.feature_importances_), features_names, top=7)"
   ]
  },
  {
   "cell_type": "markdown",
   "id": "38cca2f1",
   "metadata": {
    "id": "9M4b9NZ4gaM6",
    "papermill": {
     "duration": 0.030876,
     "end_time": "2022-09-14T13:04:11.252146",
     "exception": false,
     "start_time": "2022-09-14T13:04:11.221270",
     "status": "completed"
    },
    "tags": []
   },
   "source": [
    "# SKLearn Gradient Boosting Model"
   ]
  },
  {
   "cell_type": "code",
   "execution_count": 34,
   "id": "9cfde7e4",
   "metadata": {
    "execution": {
     "iopub.execute_input": "2022-09-14T13:04:11.315620Z",
     "iopub.status.busy": "2022-09-14T13:04:11.315245Z",
     "iopub.status.idle": "2022-09-14T13:04:13.212138Z",
     "shell.execute_reply": "2022-09-14T13:04:13.210941Z"
    },
    "id": "o2rY6stOgaM6",
    "papermill": {
     "duration": 1.93166,
     "end_time": "2022-09-14T13:04:13.214823",
     "exception": false,
     "start_time": "2022-09-14T13:04:11.283163",
     "status": "completed"
    },
    "tags": []
   },
   "outputs": [
    {
     "data": {
      "text/plain": [
       "GradientBoostingClassifier(random_state=42)"
      ]
     },
     "execution_count": 34,
     "metadata": {},
     "output_type": "execute_result"
    }
   ],
   "source": [
    "SKGB = GradientBoostingClassifier(random_state=42)\n",
    "SKGB.fit(x_train, y_train)"
   ]
  },
  {
   "cell_type": "code",
   "execution_count": 35,
   "id": "7b1a6b5f",
   "metadata": {
    "execution": {
     "iopub.execute_input": "2022-09-14T13:04:13.282301Z",
     "iopub.status.busy": "2022-09-14T13:04:13.280274Z",
     "iopub.status.idle": "2022-09-14T13:04:13.334937Z",
     "shell.execute_reply": "2022-09-14T13:04:13.333488Z"
    },
    "id": "jTNBvG7XgaM6",
    "papermill": {
     "duration": 0.091692,
     "end_time": "2022-09-14T13:04:13.338350",
     "exception": false,
     "start_time": "2022-09-14T13:04:13.246658",
     "status": "completed"
    },
    "tags": []
   },
   "outputs": [
    {
     "name": "stdout",
     "output_type": "stream",
     "text": [
      "Training Score: 0.9956901440399228\n",
      "Test Score: 0.9931198729822704\n"
     ]
    }
   ],
   "source": [
    "SKGB_train, SKGB_test = SKGB.score(x_train , y_train), SKGB.score(x_test , y_test)\n",
    "\n",
    "print(f\"Training Score: {SKGB_train}\")\n",
    "print(f\"Test Score: {SKGB_test}\")"
   ]
  },
  {
   "cell_type": "markdown",
   "id": "c5294f10",
   "metadata": {
    "id": "oGi7cqwVgaM6",
    "papermill": {
     "duration": 0.031031,
     "end_time": "2022-09-14T13:04:13.401647",
     "exception": false,
     "start_time": "2022-09-14T13:04:13.370616",
     "status": "completed"
    },
    "tags": []
   },
   "source": [
    "# XGBoost Gradient Boosting Model"
   ]
  },
  {
   "cell_type": "code",
   "execution_count": 36,
   "id": "8cf1fc62",
   "metadata": {
    "execution": {
     "iopub.execute_input": "2022-09-14T13:04:13.467423Z",
     "iopub.status.busy": "2022-09-14T13:04:13.466607Z",
     "iopub.status.idle": "2022-09-14T13:04:14.569831Z",
     "shell.execute_reply": "2022-09-14T13:04:14.568895Z"
    },
    "id": "iIRaFkXSgaM7",
    "papermill": {
     "duration": 1.13954,
     "end_time": "2022-09-14T13:04:14.572674",
     "exception": false,
     "start_time": "2022-09-14T13:04:13.433134",
     "status": "completed"
    },
    "tags": []
   },
   "outputs": [
    {
     "data": {
      "text/plain": [
       "XGBClassifier(base_score=0.5, booster='gbtree', callbacks=None,\n",
       "              colsample_bylevel=1, colsample_bynode=1, colsample_bytree=1,\n",
       "              early_stopping_rounds=None, enable_categorical=False,\n",
       "              eval_metric=None, gamma=0, gpu_id=-1, grow_policy='depthwise',\n",
       "              importance_type=None, interaction_constraints='',\n",
       "              learning_rate=0.300000012, max_bin=256, max_cat_to_onehot=4,\n",
       "              max_delta_step=0, max_depth=6, max_leaves=0, min_child_weight=1,\n",
       "              missing=nan, monotone_constraints='()', n_estimators=100,\n",
       "              n_jobs=0, num_parallel_tree=1, predictor='auto', random_state=42,\n",
       "              reg_alpha=0, reg_lambda=1, ...)"
      ]
     },
     "execution_count": 36,
     "metadata": {},
     "output_type": "execute_result"
    }
   ],
   "source": [
    "xgb_model = XGBClassifier(objective=\"binary:logistic\", random_state=42)\n",
    "xgb_model.fit(x_train, y_train)"
   ]
  },
  {
   "cell_type": "code",
   "execution_count": 37,
   "id": "4765afda",
   "metadata": {
    "execution": {
     "iopub.execute_input": "2022-09-14T13:04:14.639937Z",
     "iopub.status.busy": "2022-09-14T13:04:14.638607Z",
     "iopub.status.idle": "2022-09-14T13:04:14.691579Z",
     "shell.execute_reply": "2022-09-14T13:04:14.689687Z"
    },
    "id": "mi0Ls5Y_gaM7",
    "papermill": {
     "duration": 0.091191,
     "end_time": "2022-09-14T13:04:14.695377",
     "exception": false,
     "start_time": "2022-09-14T13:04:14.604186",
     "status": "completed"
    },
    "tags": []
   },
   "outputs": [
    {
     "name": "stdout",
     "output_type": "stream",
     "text": [
      "Training Score: 1.0\n",
      "Test Score: 0.9956337655464409\n"
     ]
    }
   ],
   "source": [
    "xgb_train, xgb_test = xgb_model.score(x_train , y_train), xgb_model.score(x_test , y_test)\n",
    "\n",
    "print(f\"Training Score: {xgb_train}\")\n",
    "print(f\"Test Score: {xgb_test}\")"
   ]
  },
  {
   "cell_type": "markdown",
   "id": "8f7cd328",
   "metadata": {
    "id": "ghUaUhBbkujg",
    "papermill": {
     "duration": 0.031879,
     "end_time": "2022-09-14T13:04:14.760390",
     "exception": false,
     "start_time": "2022-09-14T13:04:14.728511",
     "status": "completed"
    },
    "tags": []
   },
   "source": [
    "# Light Gradient Boosting Model"
   ]
  },
  {
   "cell_type": "code",
   "execution_count": 38,
   "id": "6e030927",
   "metadata": {
    "execution": {
     "iopub.execute_input": "2022-09-14T13:04:14.826279Z",
     "iopub.status.busy": "2022-09-14T13:04:14.825843Z",
     "iopub.status.idle": "2022-09-14T13:04:15.110001Z",
     "shell.execute_reply": "2022-09-14T13:04:15.109069Z"
    },
    "id": "kfcPg5BOk-m9",
    "outputId": "9c423abe-e607-4b96-bbfe-eb4c69cc6093",
    "papermill": {
     "duration": 0.320923,
     "end_time": "2022-09-14T13:04:15.112952",
     "exception": false,
     "start_time": "2022-09-14T13:04:14.792029",
     "status": "completed"
    },
    "tags": []
   },
   "outputs": [
    {
     "data": {
      "text/plain": [
       "LGBMClassifier(random_state=42)"
      ]
     },
     "execution_count": 38,
     "metadata": {},
     "output_type": "execute_result"
    }
   ],
   "source": [
    "lgb_model = LGBMClassifier(random_state=42)\n",
    "lgb_model.fit(x_train, y_train)"
   ]
  },
  {
   "cell_type": "code",
   "execution_count": 39,
   "id": "600c5614",
   "metadata": {
    "execution": {
     "iopub.execute_input": "2022-09-14T13:04:15.181030Z",
     "iopub.status.busy": "2022-09-14T13:04:15.180418Z",
     "iopub.status.idle": "2022-09-14T13:04:15.245611Z",
     "shell.execute_reply": "2022-09-14T13:04:15.243742Z"
    },
    "id": "Y40nISynlIRT",
    "outputId": "46ee6dc6-e597-4a2b-ab92-756d66fd30e1",
    "papermill": {
     "duration": 0.103111,
     "end_time": "2022-09-14T13:04:15.249554",
     "exception": false,
     "start_time": "2022-09-14T13:04:15.146443",
     "status": "completed"
    },
    "tags": []
   },
   "outputs": [
    {
     "name": "stdout",
     "output_type": "stream",
     "text": [
      "Training Score: 1.0\n",
      "Test Score: 0.9952368351415718\n"
     ]
    }
   ],
   "source": [
    "lgb_train, lgb_test = lgb_model.score(x_train , y_train), lgb_model.score(x_test , y_test)\n",
    "\n",
    "print(f\"Training Score: {lgb_train}\")\n",
    "print(f\"Test Score: {lgb_test}\")"
   ]
  },
  {
   "cell_type": "markdown",
   "id": "d777213a",
   "metadata": {
    "id": "RkCRpu2Djj-R",
    "papermill": {
     "duration": 0.032314,
     "end_time": "2022-09-14T13:04:15.315131",
     "exception": false,
     "start_time": "2022-09-14T13:04:15.282817",
     "status": "completed"
    },
    "tags": []
   },
   "source": [
    "# SKLearn AdaBoost Model"
   ]
  },
  {
   "cell_type": "code",
   "execution_count": 40,
   "id": "8d74fd28",
   "metadata": {
    "execution": {
     "iopub.execute_input": "2022-09-14T13:04:15.382660Z",
     "iopub.status.busy": "2022-09-14T13:04:15.381876Z",
     "iopub.status.idle": "2022-09-14T13:04:15.386563Z",
     "shell.execute_reply": "2022-09-14T13:04:15.385759Z"
    },
    "id": "DnXWqmDmjnMl",
    "papermill": {
     "duration": 0.040892,
     "end_time": "2022-09-14T13:04:15.388779",
     "exception": false,
     "start_time": "2022-09-14T13:04:15.347887",
     "status": "completed"
    },
    "tags": []
   },
   "outputs": [],
   "source": [
    "ab_model = AdaBoostClassifier(random_state=42)"
   ]
  },
  {
   "cell_type": "code",
   "execution_count": 41,
   "id": "c341ec06",
   "metadata": {
    "execution": {
     "iopub.execute_input": "2022-09-14T13:04:15.456448Z",
     "iopub.status.busy": "2022-09-14T13:04:15.455682Z",
     "iopub.status.idle": "2022-09-14T13:04:16.164293Z",
     "shell.execute_reply": "2022-09-14T13:04:16.163468Z"
    },
    "id": "ksnwKwX9kLId",
    "outputId": "9341174c-403d-444e-bdfa-66d2b54a7402",
    "papermill": {
     "duration": 0.745732,
     "end_time": "2022-09-14T13:04:16.166610",
     "exception": false,
     "start_time": "2022-09-14T13:04:15.420878",
     "status": "completed"
    },
    "tags": []
   },
   "outputs": [
    {
     "data": {
      "text/plain": [
       "AdaBoostClassifier(random_state=42)"
      ]
     },
     "execution_count": 41,
     "metadata": {},
     "output_type": "execute_result"
    }
   ],
   "source": [
    "ab_model.fit(x_train, y_train)"
   ]
  },
  {
   "cell_type": "code",
   "execution_count": 42,
   "id": "d3e436c5",
   "metadata": {
    "execution": {
     "iopub.execute_input": "2022-09-14T13:04:16.247361Z",
     "iopub.status.busy": "2022-09-14T13:04:16.245745Z",
     "iopub.status.idle": "2022-09-14T13:04:16.433256Z",
     "shell.execute_reply": "2022-09-14T13:04:16.431748Z"
    },
    "id": "bGrOgEYjkOOF",
    "outputId": "2dc4b251-0a7b-41c5-b583-909e7627e99e",
    "papermill": {
     "duration": 0.237085,
     "end_time": "2022-09-14T13:04:16.435893",
     "exception": false,
     "start_time": "2022-09-14T13:04:16.198808",
     "status": "completed"
    },
    "tags": []
   },
   "outputs": [
    {
     "name": "stdout",
     "output_type": "stream",
     "text": [
      "Training Score: 0.9861630940229102\n",
      "Test Score: 0.9858428155596719\n"
     ]
    }
   ],
   "source": [
    "ab_train, ab_test = ab_model.score(x_train , y_train), ab_model.score(x_test , y_test)\n",
    "\n",
    "print(f\"Training Score: {ab_train}\")\n",
    "print(f\"Test Score: {ab_test}\")"
   ]
  },
  {
   "cell_type": "markdown",
   "id": "b01a3852",
   "metadata": {
    "id": "XmfcuMDsmT_4",
    "papermill": {
     "duration": 0.0319,
     "end_time": "2022-09-14T13:04:16.499837",
     "exception": false,
     "start_time": "2022-09-14T13:04:16.467937",
     "status": "completed"
    },
    "tags": []
   },
   "source": [
    "# CatBoost Classifier Model"
   ]
  },
  {
   "cell_type": "code",
   "execution_count": 43,
   "id": "84427972",
   "metadata": {
    "execution": {
     "iopub.execute_input": "2022-09-14T13:04:16.567936Z",
     "iopub.status.busy": "2022-09-14T13:04:16.565317Z",
     "iopub.status.idle": "2022-09-14T13:04:16.576632Z",
     "shell.execute_reply": "2022-09-14T13:04:16.575765Z"
    },
    "id": "ij_ABdLNmTou",
    "papermill": {
     "duration": 0.047067,
     "end_time": "2022-09-14T13:04:16.578976",
     "exception": false,
     "start_time": "2022-09-14T13:04:16.531909",
     "status": "completed"
    },
    "tags": []
   },
   "outputs": [],
   "source": [
    "cb_model = CatBoostClassifier(verbose=0)"
   ]
  },
  {
   "cell_type": "code",
   "execution_count": 44,
   "id": "3e79f12f",
   "metadata": {
    "execution": {
     "iopub.execute_input": "2022-09-14T13:04:16.645890Z",
     "iopub.status.busy": "2022-09-14T13:04:16.645051Z",
     "iopub.status.idle": "2022-09-14T13:04:21.806103Z",
     "shell.execute_reply": "2022-09-14T13:04:21.804890Z"
    },
    "id": "FoGAf8dnoGZb",
    "outputId": "33e4cb16-d6bf-470d-913d-483335fb41f1",
    "papermill": {
     "duration": 5.197896,
     "end_time": "2022-09-14T13:04:21.809082",
     "exception": false,
     "start_time": "2022-09-14T13:04:16.611186",
     "status": "completed"
    },
    "tags": []
   },
   "outputs": [
    {
     "data": {
      "text/plain": [
       "<catboost.core.CatBoostClassifier at 0x7f4a158a5690>"
      ]
     },
     "execution_count": 44,
     "metadata": {},
     "output_type": "execute_result"
    }
   ],
   "source": [
    "cb_model.fit(x_train, y_train)"
   ]
  },
  {
   "cell_type": "code",
   "execution_count": 45,
   "id": "98259630",
   "metadata": {
    "execution": {
     "iopub.execute_input": "2022-09-14T13:04:21.877852Z",
     "iopub.status.busy": "2022-09-14T13:04:21.876584Z",
     "iopub.status.idle": "2022-09-14T13:04:21.990421Z",
     "shell.execute_reply": "2022-09-14T13:04:21.989121Z"
    },
    "id": "ln9RUK03oMh8",
    "outputId": "38794fbb-b471-4184-9e99-430795514712",
    "papermill": {
     "duration": 0.150514,
     "end_time": "2022-09-14T13:04:21.992982",
     "exception": false,
     "start_time": "2022-09-14T13:04:21.842468",
     "status": "completed"
    },
    "tags": []
   },
   "outputs": [
    {
     "name": "stdout",
     "output_type": "stream",
     "text": [
      "Training Score: 0.9985822842236588\n",
      "Test Score: 0.9952368351415718\n"
     ]
    }
   ],
   "source": [
    "cb_train, cb_test = cb_model.score(x_train , y_train), cb_model.score(x_test , y_test)\n",
    "\n",
    "print(f\"Training Score: {cb_train}\")\n",
    "print(f\"Test Score: {cb_test}\")"
   ]
  },
  {
   "cell_type": "markdown",
   "id": "4694e000",
   "metadata": {
    "papermill": {
     "duration": 0.031961,
     "end_time": "2022-09-14T13:04:22.057620",
     "exception": false,
     "start_time": "2022-09-14T13:04:22.025659",
     "status": "completed"
    },
    "tags": []
   },
   "source": [
    "# Naive Baye Model"
   ]
  },
  {
   "cell_type": "code",
   "execution_count": 46,
   "id": "a777694e",
   "metadata": {
    "execution": {
     "iopub.execute_input": "2022-09-14T13:04:22.125864Z",
     "iopub.status.busy": "2022-09-14T13:04:22.124537Z",
     "iopub.status.idle": "2022-09-14T13:04:22.147326Z",
     "shell.execute_reply": "2022-09-14T13:04:22.145614Z"
    },
    "papermill": {
     "duration": 0.061526,
     "end_time": "2022-09-14T13:04:22.151534",
     "exception": false,
     "start_time": "2022-09-14T13:04:22.090008",
     "status": "completed"
    },
    "tags": []
   },
   "outputs": [
    {
     "data": {
      "text/plain": [
       "BernoulliNB()"
      ]
     },
     "execution_count": 46,
     "metadata": {},
     "output_type": "execute_result"
    }
   ],
   "source": [
    "BNB_model = BernoulliNB()\n",
    "BNB_model.fit(x_train, y_train)"
   ]
  },
  {
   "cell_type": "code",
   "execution_count": 47,
   "id": "ff4828ec",
   "metadata": {
    "execution": {
     "iopub.execute_input": "2022-09-14T13:04:22.282906Z",
     "iopub.status.busy": "2022-09-14T13:04:22.281672Z",
     "iopub.status.idle": "2022-09-14T13:04:22.306302Z",
     "shell.execute_reply": "2022-09-14T13:04:22.302015Z"
    },
    "papermill": {
     "duration": 0.081524,
     "end_time": "2022-09-14T13:04:22.311056",
     "exception": false,
     "start_time": "2022-09-14T13:04:22.229532",
     "status": "completed"
    },
    "tags": []
   },
   "outputs": [
    {
     "name": "stdout",
     "output_type": "stream",
     "text": [
      "Training Score: 0.8963366224339344\n",
      "Test Score: 0.896930404869013\n"
     ]
    }
   ],
   "source": [
    "BNB_train, BNB_test = BNB_model.score(x_train , y_train), BNB_model.score(x_test , y_test)\n",
    "\n",
    "print(f\"Training Score: {BNB_train}\")\n",
    "print(f\"Test Score: {BNB_test}\")"
   ]
  },
  {
   "cell_type": "markdown",
   "id": "d2ab6e9a",
   "metadata": {
    "id": "kVm4IjT8op2l",
    "papermill": {
     "duration": 0.045082,
     "end_time": "2022-09-14T13:04:22.435712",
     "exception": false,
     "start_time": "2022-09-14T13:04:22.390630",
     "status": "completed"
    },
    "tags": []
   },
   "source": [
    "# Voting Model "
   ]
  },
  {
   "cell_type": "code",
   "execution_count": 48,
   "id": "57b47971",
   "metadata": {
    "execution": {
     "iopub.execute_input": "2022-09-14T13:04:22.503159Z",
     "iopub.status.busy": "2022-09-14T13:04:22.502735Z",
     "iopub.status.idle": "2022-09-14T13:04:22.508735Z",
     "shell.execute_reply": "2022-09-14T13:04:22.507929Z"
    },
    "id": "yOs3vSPtq3BB",
    "papermill": {
     "duration": 0.042407,
     "end_time": "2022-09-14T13:04:22.510911",
     "exception": false,
     "start_time": "2022-09-14T13:04:22.468504",
     "status": "completed"
    },
    "tags": []
   },
   "outputs": [],
   "source": [
    "v_clf = VotingClassifier(estimators=[('KNeighborsClassifier', KNN_model), (\"XGBClassifier\", xgb_model), (\"RandomForestClassifier\", rf), (\"DecisionTree\", dt), (\"XGBoost\", xgb_model), (\"LightGB\", lgb_model), (\"AdaBoost\", ab_model), (\"Catboost\", cb_model)], voting = \"hard\")"
   ]
  },
  {
   "cell_type": "code",
   "execution_count": 49,
   "id": "6b930f25",
   "metadata": {
    "execution": {
     "iopub.execute_input": "2022-09-14T13:04:22.579081Z",
     "iopub.status.busy": "2022-09-14T13:04:22.578268Z",
     "iopub.status.idle": "2022-09-14T13:04:31.344332Z",
     "shell.execute_reply": "2022-09-14T13:04:31.342974Z"
    },
    "id": "pmTNtjFCrDdG",
    "outputId": "e316fb7a-46db-4b08-adac-63b09cf78b24",
    "papermill": {
     "duration": 8.803235,
     "end_time": "2022-09-14T13:04:31.347168",
     "exception": false,
     "start_time": "2022-09-14T13:04:22.543933",
     "status": "completed"
    },
    "tags": []
   },
   "outputs": [
    {
     "data": {
      "text/plain": [
       "VotingClassifier(estimators=[('KNeighborsClassifier',\n",
       "                              KNeighborsClassifier(n_neighbors=15)),\n",
       "                             ('XGBClassifier',\n",
       "                              XGBClassifier(base_score=0.5, booster='gbtree',\n",
       "                                            callbacks=None, colsample_bylevel=1,\n",
       "                                            colsample_bynode=1,\n",
       "                                            colsample_bytree=1,\n",
       "                                            early_stopping_rounds=None,\n",
       "                                            enable_categorical=False,\n",
       "                                            eval_metric=None, gamma=0,\n",
       "                                            gpu_id=-1, grow_policy='depthwise',\n",
       "                                            importance_t...\n",
       "                                            max_delta_step=0, max_depth=6,\n",
       "                                            max_leaves=0, min_child_weight=1,\n",
       "                                            missing=nan,\n",
       "                                            monotone_constraints='()',\n",
       "                                            n_estimators=100, n_jobs=0,\n",
       "                                            num_parallel_tree=1,\n",
       "                                            predictor='auto', random_state=42,\n",
       "                                            reg_alpha=0, reg_lambda=1, ...)),\n",
       "                             ('LightGB', LGBMClassifier(random_state=42)),\n",
       "                             ('AdaBoost', AdaBoostClassifier(random_state=42)),\n",
       "                             ('Catboost',\n",
       "                              <catboost.core.CatBoostClassifier object at 0x7f4a158a5690>)])"
      ]
     },
     "execution_count": 49,
     "metadata": {},
     "output_type": "execute_result"
    }
   ],
   "source": [
    "v_clf.fit(x_train, y_train)"
   ]
  },
  {
   "cell_type": "code",
   "execution_count": 50,
   "id": "d2b187cb",
   "metadata": {
    "execution": {
     "iopub.execute_input": "2022-09-14T13:04:31.416451Z",
     "iopub.status.busy": "2022-09-14T13:04:31.416042Z",
     "iopub.status.idle": "2022-09-14T13:04:34.437489Z",
     "shell.execute_reply": "2022-09-14T13:04:34.436128Z"
    },
    "id": "anYHq3nhrM3a",
    "outputId": "b7c7f833-f698-40f8-82b4-62b7b6de3646",
    "papermill": {
     "duration": 3.05989,
     "end_time": "2022-09-14T13:04:34.440475",
     "exception": false,
     "start_time": "2022-09-14T13:04:31.380585",
     "status": "completed"
    },
    "tags": []
   },
   "outputs": [
    {
     "name": "stdout",
     "output_type": "stream",
     "text": [
      "Training Score: 0.9998865827378927\n",
      "Test Score: 0.9957660756813972\n"
     ]
    }
   ],
   "source": [
    "voting_train, voting_test = v_clf.score(x_train , y_train), v_clf.score(x_test , y_test)\n",
    "\n",
    "print(f\"Training Score: {voting_train}\")\n",
    "print(f\"Test Score: {voting_test}\")"
   ]
  },
  {
   "cell_type": "markdown",
   "id": "a43694fc",
   "metadata": {
    "papermill": {
     "duration": 0.032636,
     "end_time": "2022-09-14T13:04:34.506297",
     "exception": false,
     "start_time": "2022-09-14T13:04:34.473661",
     "status": "completed"
    },
    "tags": []
   },
   "source": [
    "# SVM Model"
   ]
  },
  {
   "cell_type": "code",
   "execution_count": 51,
   "id": "e390d8f6",
   "metadata": {
    "execution": {
     "iopub.execute_input": "2022-09-14T13:04:34.574921Z",
     "iopub.status.busy": "2022-09-14T13:04:34.574492Z",
     "iopub.status.idle": "2022-09-14T13:04:34.582573Z",
     "shell.execute_reply": "2022-09-14T13:04:34.581596Z"
    },
    "papermill": {
     "duration": 0.045122,
     "end_time": "2022-09-14T13:04:34.584753",
     "exception": false,
     "start_time": "2022-09-14T13:04:34.539631",
     "status": "completed"
    },
    "tags": []
   },
   "outputs": [],
   "source": [
    "def objective(trial):\n",
    "    kernel = trial.suggest_categorical('kernel', ['linear', 'rbf', 'poly', 'linearSVC'])\n",
    "    c = trial.suggest_float('c', 0.02, 1.0, step=0.02)\n",
    "    if kernel in ['linear', 'rbf']:\n",
    "        classifier_obj = SVC(kernel=kernel, C=c).fit(x_train, y_train)\n",
    "    elif kernel == 'linearSVC':\n",
    "        classifier_obj = LinearSVC(C=c).fit(x_train, y_train)\n",
    "    elif kernel == 'poly':\n",
    "        degree = trial.suggest_int('degree', 2, 10)\n",
    "        classifier_obj = SVC(kernel=kernel, C=c, degree=degree).fit(x_train, y_train)\n",
    "        \n",
    "    accuracy = classifier_obj.score(x_test, y_test)\n",
    "    return accuracy"
   ]
  },
  {
   "cell_type": "code",
   "execution_count": 52,
   "id": "81394285",
   "metadata": {
    "execution": {
     "iopub.execute_input": "2022-09-14T13:04:34.653919Z",
     "iopub.status.busy": "2022-09-14T13:04:34.653148Z",
     "iopub.status.idle": "2022-09-14T13:06:33.921013Z",
     "shell.execute_reply": "2022-09-14T13:06:33.919103Z"
    },
    "papermill": {
     "duration": 119.390624,
     "end_time": "2022-09-14T13:06:34.008364",
     "exception": false,
     "start_time": "2022-09-14T13:04:34.617740",
     "status": "completed"
    },
    "tags": []
   },
   "outputs": [
    {
     "name": "stdout",
     "output_type": "stream",
     "text": [
      "FrozenTrial(number=13, values=[0.9628208520772691], datetime_start=datetime.datetime(2022, 9, 14, 13, 5, 29, 941015), datetime_complete=datetime.datetime(2022, 9, 14, 13, 5, 33, 370310), params={'kernel': 'rbf', 'c': 1.0}, distributions={'kernel': CategoricalDistribution(choices=('linear', 'rbf', 'poly', 'linearSVC')), 'c': DiscreteUniformDistribution(high=1.0, low=0.02, q=0.02)}, user_attrs={}, system_attrs={}, intermediate_values={}, trial_id=13, state=TrialState.COMPLETE, value=None)\n"
     ]
    }
   ],
   "source": [
    "study_svm = optuna.create_study(direction='maximize')\n",
    "study_svm.optimize(objective, n_trials=30)\n",
    "print(study_svm.best_trial)"
   ]
  },
  {
   "cell_type": "code",
   "execution_count": 53,
   "id": "ecfe6231",
   "metadata": {
    "execution": {
     "iopub.execute_input": "2022-09-14T13:06:34.094048Z",
     "iopub.status.busy": "2022-09-14T13:06:34.093603Z",
     "iopub.status.idle": "2022-09-14T13:06:36.660120Z",
     "shell.execute_reply": "2022-09-14T13:06:36.659222Z"
    },
    "papermill": {
     "duration": 2.604386,
     "end_time": "2022-09-14T13:06:36.662537",
     "exception": false,
     "start_time": "2022-09-14T13:06:34.058151",
     "status": "completed"
    },
    "tags": []
   },
   "outputs": [
    {
     "data": {
      "text/plain": [
       "SVC()"
      ]
     },
     "execution_count": 53,
     "metadata": {},
     "output_type": "execute_result"
    }
   ],
   "source": [
    "if study_svm.best_trial.params['kernel'] in ['linear', 'rbf']:\n",
    "    SVM_model = SVC(kernel=study_svm.best_trial.params['kernel'], C=study_svm.best_trial.params['c'])\n",
    "elif kernel == 'linearSVC':\n",
    "    SVM_model = LinearSVC(C=study_svm.best_trial.params['c'])\n",
    "elif kernel == 'poly':\n",
    "    SVM_model = SVC(kernel=study_svm.best_trial.params['kernel'], C=study_svm.best_trial.params['c'], degree=study_svm.best_trial.params['degree'])\n",
    "\n",
    "SVM_model.fit(x_train, y_train)"
   ]
  },
  {
   "cell_type": "code",
   "execution_count": 54,
   "id": "bff2463d",
   "metadata": {
    "execution": {
     "iopub.execute_input": "2022-09-14T13:06:36.733231Z",
     "iopub.status.busy": "2022-09-14T13:06:36.732314Z",
     "iopub.status.idle": "2022-09-14T13:06:39.570660Z",
     "shell.execute_reply": "2022-09-14T13:06:39.569451Z"
    },
    "papermill": {
     "duration": 2.877378,
     "end_time": "2022-09-14T13:06:39.573929",
     "exception": false,
     "start_time": "2022-09-14T13:06:36.696551",
     "status": "completed"
    },
    "tags": []
   },
   "outputs": [
    {
     "name": "stdout",
     "output_type": "stream",
     "text": [
      "Training Score: 0.9638766020188273\n",
      "Test Score: 0.9628208520772691\n"
     ]
    }
   ],
   "source": [
    "SVM_train, SVM_test = SVM_model.score(x_train , y_train), SVM_model.score(x_test , y_test)\n",
    "\n",
    "print(f\"Training Score: {SVM_train}\")\n",
    "print(f\"Test Score: {SVM_test}\")"
   ]
  },
  {
   "cell_type": "markdown",
   "id": "c5994abb",
   "metadata": {
    "papermill": {
     "duration": 0.034072,
     "end_time": "2022-09-14T13:06:39.642657",
     "exception": false,
     "start_time": "2022-09-14T13:06:39.608585",
     "status": "completed"
    },
    "tags": []
   },
   "source": [
    "# Summary"
   ]
  },
  {
   "cell_type": "code",
   "execution_count": 55,
   "id": "d830a6e9",
   "metadata": {
    "execution": {
     "iopub.execute_input": "2022-09-14T13:06:39.713824Z",
     "iopub.status.busy": "2022-09-14T13:06:39.712525Z",
     "iopub.status.idle": "2022-09-14T13:06:39.724051Z",
     "shell.execute_reply": "2022-09-14T13:06:39.722796Z"
    },
    "papermill": {
     "duration": 0.049905,
     "end_time": "2022-09-14T13:06:39.727076",
     "exception": false,
     "start_time": "2022-09-14T13:06:39.677171",
     "status": "completed"
    },
    "tags": []
   },
   "outputs": [
    {
     "name": "stdout",
     "output_type": "stream",
     "text": [
      "╒═════════════════════╤═══════════════╤══════════════╕\n",
      "│ Model               │   Train Score │   Test Score │\n",
      "╞═════════════════════╪═══════════════╪══════════════╡\n",
      "│ KNN                 │      0.977317 │     0.976978 │\n",
      "├─────────────────────┼───────────────┼──────────────┤\n",
      "│ Logistic Regression │      0.916185 │     0.908044 │\n",
      "├─────────────────────┼───────────────┼──────────────┤\n",
      "│ Decision Tree       │      1        │     0.99484  │\n",
      "├─────────────────────┼───────────────┼──────────────┤\n",
      "│ Random Forest       │      0.998979 │     0.995898 │\n",
      "├─────────────────────┼───────────────┼──────────────┤\n",
      "│ GBM                 │      0.99569  │     0.99312  │\n",
      "├─────────────────────┼───────────────┼──────────────┤\n",
      "│ XGBM                │      1        │     0.995634 │\n",
      "├─────────────────────┼───────────────┼──────────────┤\n",
      "│ Adaboost            │      0.986163 │     0.985843 │\n",
      "├─────────────────────┼───────────────┼──────────────┤\n",
      "│ light GBM           │      1        │     0.995237 │\n",
      "├─────────────────────┼───────────────┼──────────────┤\n",
      "│ CatBoost            │      0.998582 │     0.995237 │\n",
      "├─────────────────────┼───────────────┼──────────────┤\n",
      "│ Naive Baye Model    │      0.896337 │     0.89693  │\n",
      "├─────────────────────┼───────────────┼──────────────┤\n",
      "│ Voting              │      0.999887 │     0.995766 │\n",
      "├─────────────────────┼───────────────┼──────────────┤\n",
      "│ SVM                 │      0.963877 │     0.962821 │\n",
      "╘═════════════════════╧═══════════════╧══════════════╛\n"
     ]
    }
   ],
   "source": [
    "data = [[\"KNN\", KNN_train, KNN_test], \n",
    "        [\"Logistic Regression\", lg_train, lg_test],\n",
    "        [\"Decision Tree\", dt_train, dt_test], \n",
    "        [\"Random Forest\", rf_train, rf_test], \n",
    "        [\"GBM\", SKGB_train, SKGB_test], \n",
    "        [\"XGBM\", xgb_train, xgb_test], \n",
    "        [\"Adaboost\", ab_train, ab_test], \n",
    "        [\"light GBM\", lgb_train, lgb_test],\n",
    "        [\"CatBoost\", cb_train, cb_test], \n",
    "        [\"Naive Baye Model\", BNB_train, BNB_test], \n",
    "        [\"Voting\", voting_train, voting_test],\n",
    "        [\"SVM\", SVM_train, SVM_test]]\n",
    "\n",
    "col_names = [\"Model\", \"Train Score\", \"Test Score\"]\n",
    "print(tabulate(data, headers=col_names, tablefmt=\"fancy_grid\"))"
   ]
  }
 ],
 "metadata": {
  "kernelspec": {
   "display_name": "Python 3",
   "language": "python",
   "name": "python3"
  },
  "language_info": {
   "codemirror_mode": {
    "name": "ipython",
    "version": 3
   },
   "file_extension": ".py",
   "mimetype": "text/x-python",
   "name": "python",
   "nbconvert_exporter": "python",
   "pygments_lexer": "ipython3",
   "version": "3.12.4"
  },
  "papermill": {
   "default_parameters": {},
   "duration": 279.596355,
   "end_time": "2022-09-14T13:06:40.893210",
   "environment_variables": {},
   "exception": null,
   "input_path": "__notebook__.ipynb",
   "output_path": "__notebook__.ipynb",
   "parameters": {},
   "start_time": "2022-09-14T13:02:01.296855",
   "version": "2.3.4"
  }
 },
 "nbformat": 4,
 "nbformat_minor": 5
}
